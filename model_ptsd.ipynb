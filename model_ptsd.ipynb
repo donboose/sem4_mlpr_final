{
 "cells": [
  {
   "cell_type": "markdown",
   "id": "8907c5c8",
   "metadata": {
    "language": "markdown"
   },
   "source": [
    "# PTSD Prediction Model: Multimodal LSTM with Cross-Attention\n",
    "\n",
    "This notebook implements a deep learning model to predict PTSD from multimodal features (audio and visual). The model architecture includes:\n",
    "\n",
    "1. Two-branch LSTM network (audio + visual)\n",
    "2. Cross-modal attention mechanism\n",
    "3. Class weighting to handle imbalanced data\n",
    "4. Support for multiple feature types\n",
    "\n",
    "To address the concern about using only egemaps and openface features, this implementation supports incorporating additional features like ResNet, VGG, and DenseNet.\n"
   ]
  },
  {
   "cell_type": "code",
   "execution_count": 1,
   "id": "5fefb121",
   "metadata": {
    "execution": {
     "iopub.execute_input": "2025-05-03T15:08:00.906296Z",
     "iopub.status.busy": "2025-05-03T15:08:00.906131Z",
     "iopub.status.idle": "2025-05-03T15:08:02.671496Z",
     "shell.execute_reply": "2025-05-03T15:08:02.670806Z",
     "shell.execute_reply.started": "2025-05-03T15:08:00.906282Z"
    },
    "language": "python",
    "tags": []
   },
   "outputs": [
    {
     "name": "stderr",
     "output_type": "stream",
     "text": [
      "2025-05-03 15:08:01.448474: I tensorflow/core/util/port.cc:153] oneDNN custom operations are on. You may see slightly different numerical results due to floating-point round-off errors from different computation orders. To turn them off, set the environment variable `TF_ENABLE_ONEDNN_OPTS=0`.\n",
      "2025-05-03 15:08:01.458088: E external/local_xla/xla/stream_executor/cuda/cuda_fft.cc:467] Unable to register cuFFT factory: Attempting to register factory for plugin cuFFT when one has already been registered\n",
      "WARNING: All log messages before absl::InitializeLog() is called are written to STDERR\n",
      "E0000 00:00:1746284881.469084   78808 cuda_dnn.cc:8579] Unable to register cuDNN factory: Attempting to register factory for plugin cuDNN when one has already been registered\n",
      "E0000 00:00:1746284881.472339   78808 cuda_blas.cc:1407] Unable to register cuBLAS factory: Attempting to register factory for plugin cuBLAS when one has already been registered\n",
      "W0000 00:00:1746284881.480743   78808 computation_placer.cc:177] computation placer already registered. Please check linkage and avoid linking the same target more than once.\n",
      "W0000 00:00:1746284881.480753   78808 computation_placer.cc:177] computation placer already registered. Please check linkage and avoid linking the same target more than once.\n",
      "W0000 00:00:1746284881.480754   78808 computation_placer.cc:177] computation placer already registered. Please check linkage and avoid linking the same target more than once.\n",
      "W0000 00:00:1746284881.480755   78808 computation_placer.cc:177] computation placer already registered. Please check linkage and avoid linking the same target more than once.\n",
      "2025-05-03 15:08:01.483680: I tensorflow/core/platform/cpu_feature_guard.cc:210] This TensorFlow binary is optimized to use available CPU instructions in performance-critical operations.\n",
      "To enable the following instructions: AVX2 AVX_VNNI FMA, in other operations, rebuild TensorFlow with the appropriate compiler flags.\n"
     ]
    }
   ],
   "source": [
    "# Import necessary libraries\n",
    "import os\n",
    "import numpy as np\n",
    "import pandas as pd\n",
    "import matplotlib.pyplot as plt\n",
    "import pickle\n",
    "import gc\n",
    "\n",
    "# Deep learning libraries\n",
    "import tensorflow as tf\n",
    "from tensorflow import keras\n",
    "from tensorflow.keras import layers\n",
    "from tensorflow.keras.models import Model\n",
    "from tensorflow.keras.layers import Dense, LSTM, Dropout, Input, Concatenate, Attention, BatchNormalization\n",
    "from tensorflow.keras.callbacks import EarlyStopping, ModelCheckpoint, ReduceLROnPlateau\n",
    "from tensorflow.keras.optimizers import Adam\n",
    "\n",
    "# Scikit-learn for evaluation\n",
    "from sklearn.metrics import accuracy_score, precision_score, recall_score, f1_score, confusion_matrix\n",
    "from sklearn.metrics import roc_curve, auc, precision_recall_curve, average_precision_score\n",
    "from sklearn.utils import class_weight\n",
    "\n",
    "# Suppress warnings\n",
    "import warnings\n",
    "warnings.filterwarnings('ignore')"
   ]
  },
  {
   "cell_type": "code",
   "execution_count": 2,
   "id": "b7851834",
   "metadata": {
    "execution": {
     "iopub.execute_input": "2025-05-03T15:08:04.830912Z",
     "iopub.status.busy": "2025-05-03T15:08:04.830569Z",
     "iopub.status.idle": "2025-05-03T15:08:04.833887Z",
     "shell.execute_reply": "2025-05-03T15:08:04.833312Z",
     "shell.execute_reply.started": "2025-05-03T15:08:04.830896Z"
    },
    "language": "python",
    "tags": []
   },
   "outputs": [],
   "source": [
    "# Set paths\n",
    "DATA_PATH = \"../../storage/sandeep/processed_data\"\n",
    "MODEL_PATH = \"../../storage/sandeep/models\"\n",
    "RESULTS_PATH = \"../../storage/sandeep/results\"\n",
    "\n",
    "# Create output directories\n",
    "os.makedirs(MODEL_PATH, exist_ok=True)\n",
    "os.makedirs(RESULTS_PATH, exist_ok=True)\n",
    "\n",
    "# Set random seeds for reproducibility\n",
    "np.random.seed(42)\n",
    "tf.random.set_seed(42)"
   ]
  },
  {
   "cell_type": "markdown",
   "id": "60c61eba",
   "metadata": {
    "language": "markdown"
   },
   "source": [
    "## Loading Preprocessed Data\n",
    "\n",
    "In our preprocessing notebook, we saved the data in a memory-efficient format:\n",
    "\n",
    "- `{split}_audio.npy`: Audio sequences (egemaps features)\n",
    "- `{split}_visual.npy`: Visual sequences (openface features)\n",
    "- `{split}_labels.pkl`: PTSD labels and participant IDs\n",
    "\n",
    "We'll now load this data and prepare it for model training.\n"
   ]
  },
  {
   "cell_type": "code",
   "execution_count": 3,
   "id": "7e618854",
   "metadata": {
    "execution": {
     "iopub.execute_input": "2025-05-03T15:08:06.731746Z",
     "iopub.status.busy": "2025-05-03T15:08:06.731562Z",
     "iopub.status.idle": "2025-05-03T15:08:06.735806Z",
     "shell.execute_reply": "2025-05-03T15:08:06.735461Z",
     "shell.execute_reply.started": "2025-05-03T15:08:06.731732Z"
    },
    "language": "python",
    "tags": []
   },
   "outputs": [],
   "source": [
    "# Function to load the preprocessed data\n",
    "def load_processed_data(data_path, split):\n",
    "    \"\"\"Load the processed data for a specific split\"\"\"\n",
    "    print(f\"Loading {split} data...\")\n",
    "    \n",
    "    # Load audio and visual data using memory-mapping\n",
    "    audio_path = f\"{data_path}/{split}_audio.npy\"\n",
    "    visual_path = f\"{data_path}/{split}_visual.npy\"\n",
    "    \n",
    "    # For large arrays, use memory mapping\n",
    "    audio_data = np.load(audio_path, mmap_mode='r')\n",
    "    visual_data = np.load(visual_path, mmap_mode='r')\n",
    "    \n",
    "    # Get actual data arrays\n",
    "    audio_sequences = np.array(audio_data)\n",
    "    visual_sequences = np.array(visual_data)\n",
    "    \n",
    "    # Load labels and participant IDs\n",
    "    with open(f\"{data_path}/{split}_labels.pkl\", 'rb') as f:\n",
    "        label_data = pickle.load(f)\n",
    "    \n",
    "    labels = np.array(label_data['labels'])\n",
    "    participant_ids = label_data['participant_ids']\n",
    "    \n",
    "    print(f\"  Audio sequences: {audio_sequences.shape}\")\n",
    "    print(f\"  Visual sequences: {visual_sequences.shape}\")\n",
    "    print(f\"  Labels: {labels.shape}\")\n",
    "    print(f\"  PTSD positive: {sum(labels)}/{len(labels)} ({sum(labels)/len(labels)*100:.2f}%)\")\n",
    "    print(f\"  Unique participants: {len(set(participant_ids))}\")\n",
    "    \n",
    "    return audio_sequences, visual_sequences, labels, participant_ids"
   ]
  },
  {
   "cell_type": "code",
   "execution_count": 4,
   "id": "41bbc925",
   "metadata": {
    "execution": {
     "iopub.execute_input": "2025-05-03T15:08:08.371669Z",
     "iopub.status.busy": "2025-05-03T15:08:08.371498Z",
     "iopub.status.idle": "2025-05-03T15:08:08.752270Z",
     "shell.execute_reply": "2025-05-03T15:08:08.751817Z",
     "shell.execute_reply.started": "2025-05-03T15:08:08.371655Z"
    },
    "language": "python",
    "tags": []
   },
   "outputs": [
    {
     "name": "stdout",
     "output_type": "stream",
     "text": [
      "Loading train data...\n",
      "  Audio sequences: (30820, 20, 24)\n",
      "  Visual sequences: (30820, 20, 53)\n",
      "  Labels: (476565,)\n",
      "  PTSD positive: 151316/476565 (31.75%)\n",
      "  Unique participants: 163\n",
      "Loading dev data...\n",
      "  Audio sequences: (17442, 20, 24)\n",
      "  Visual sequences: (17442, 20, 53)\n",
      "  Labels: (163406,)\n",
      "  PTSD positive: 52085/163406 (31.87%)\n",
      "  Unique participants: 56\n",
      "Loading test data...\n",
      "  Audio sequences: (19772, 20, 24)\n",
      "  Visual sequences: (19772, 20, 53)\n",
      "  Labels: (162953,)\n",
      "  PTSD positive: 63501/162953 (38.97%)\n",
      "  Unique participants: 56\n"
     ]
    }
   ],
   "source": [
    "# Load the preprocessed data for all splits\n",
    "train_audio, train_visual, train_labels, train_participants = load_processed_data(DATA_PATH, 'train')\n",
    "dev_audio, dev_visual, dev_labels, dev_participants = load_processed_data(DATA_PATH, 'dev')\n",
    "test_audio, test_visual, test_labels, test_participants = load_processed_data(DATA_PATH, 'test')"
   ]
  },
  {
   "cell_type": "markdown",
   "id": "b5f8dd96",
   "metadata": {
    "language": "markdown"
   },
   "source": [
    "## Enhanced Feature Extraction (Optional)\n",
    "\n",
    "If you're concerned about using only egemaps and openface features, we can add more feature types. This section can be used to load additional feature data like ResNet, VGG, or DenseNet if available.\n"
   ]
  },
  {
   "cell_type": "code",
   "execution_count": 5,
   "id": "329588d6",
   "metadata": {
    "execution": {
     "iopub.execute_input": "2025-05-03T15:08:12.298320Z",
     "iopub.status.busy": "2025-05-03T15:08:12.298137Z",
     "iopub.status.idle": "2025-05-03T15:08:12.301664Z",
     "shell.execute_reply": "2025-05-03T15:08:12.301317Z",
     "shell.execute_reply.started": "2025-05-03T15:08:12.298306Z"
    },
    "language": "python"
   },
   "outputs": [],
   "source": [
    "# Function to load additional feature types if available\n",
    "def load_additional_features(data_path, feature_name):\n",
    "    \"\"\"Load additional feature types if they exist\"\"\"\n",
    "    feature_files = {\n",
    "        'train': f\"{data_path}/train_{feature_name}.npy\",\n",
    "        'dev': f\"{data_path}/dev_{feature_name}.npy\",\n",
    "        'test': f\"{data_path}/test_{feature_name}.npy\"\n",
    "    }\n",
    "    \n",
    "    feature_data = {}\n",
    "    for split, file_path in feature_files.items():\n",
    "        if os.path.exists(file_path):\n",
    "            feature_data[split] = np.load(file_path)\n",
    "            print(f\"Loaded {split} {feature_name} data: {feature_data[split].shape}\")\n",
    "        else:\n",
    "            print(f\"No {feature_name} data found for {split} split\")\n",
    "    \n",
    "    return feature_data"
   ]
  },
  {
   "cell_type": "code",
   "execution_count": 7,
   "id": "064c8bc6",
   "metadata": {
    "execution": {
     "iopub.execute_input": "2025-05-03T15:08:24.491930Z",
     "iopub.status.busy": "2025-05-03T15:08:24.491705Z",
     "iopub.status.idle": "2025-05-03T15:08:24.494466Z",
     "shell.execute_reply": "2025-05-03T15:08:24.494151Z",
     "shell.execute_reply.started": "2025-05-03T15:08:24.491917Z"
    },
    "language": "python"
   },
   "outputs": [
    {
     "name": "stdout",
     "output_type": "stream",
     "text": [
      "No resnet data found for train split\n",
      "No resnet data found for dev split\n",
      "No resnet data found for test split\n",
      "No vgg data found for train split\n",
      "No vgg data found for dev split\n",
      "No vgg data found for test split\n",
      "No densenet data found for train split\n",
      "No densenet data found for dev split\n",
      "No densenet data found for test split\n"
     ]
    }
   ],
   "source": [
    "# To load extra features, uncomment these lines. We can experiment with adding these later.\n",
    "resnet_features = load_additional_features(DATA_PATH, 'resnet')\n",
    "vgg_features = load_additional_features(DATA_PATH, 'vgg')\n",
    "densenet_features = load_additional_features(DATA_PATH, 'densenet')"
   ]
  },
  {
   "cell_type": "markdown",
   "id": "931374b1",
   "metadata": {
    "language": "markdown"
   },
   "source": [
    "## Cross-Modal Attention Mechanism\n",
    "\n",
    "This mechanism allows the model to attend to relevant parts of one modality based on the context provided by another modality. It's a key component for multimodal fusion.\n"
   ]
  },
  {
   "cell_type": "code",
   "execution_count": 5,
   "id": "42c10840",
   "metadata": {
    "execution": {
     "iopub.execute_input": "2025-05-03T14:37:25.919810Z",
     "iopub.status.busy": "2025-05-03T14:37:25.919624Z",
     "iopub.status.idle": "2025-05-03T14:37:25.922792Z",
     "shell.execute_reply": "2025-05-03T14:37:25.922449Z",
     "shell.execute_reply.started": "2025-05-03T14:37:25.919797Z"
    },
    "language": "python",
    "tags": []
   },
   "outputs": [],
   "source": [
    "def cross_modal_attention(audio_features, visual_features, name_prefix=''):\n",
    "    \"\"\"Implement cross-modal attention between audio and visual features\"\"\"\n",
    "    # Audio guided by visual context\n",
    "    audio_with_visual_context = layers.Attention(\n",
    "        name=f'{name_prefix}audio_visual_attention'\n",
    "    )([audio_features, visual_features])\n",
    "    \n",
    "    # Visual guided by audio context\n",
    "    visual_with_audio_context = layers.Attention(\n",
    "        name=f'{name_prefix}visual_audio_attention'\n",
    "    )([visual_features, audio_features])\n",
    "    \n",
    "    # Combine context-enhanced features\n",
    "    enhanced_audio = layers.Concatenate(\n",
    "        name=f'{name_prefix}enhanced_audio'\n",
    "    )([audio_features, audio_with_visual_context])\n",
    "    \n",
    "    enhanced_visual = layers.Concatenate(\n",
    "        name=f'{name_prefix}enhanced_visual'\n",
    "    )([visual_features, visual_with_audio_context])\n",
    "    \n",
    "    return enhanced_audio, enhanced_visual"
   ]
  },
  {
   "cell_type": "code",
   "execution_count": 6,
   "id": "4cacd653-5a7e-434a-a9d3-9b8402a59285",
   "metadata": {
    "execution": {
     "iopub.execute_input": "2025-05-03T14:37:28.288494Z",
     "iopub.status.busy": "2025-05-03T14:37:28.288249Z",
     "iopub.status.idle": "2025-05-03T14:37:28.292504Z",
     "shell.execute_reply": "2025-05-03T14:37:28.292064Z",
     "shell.execute_reply.started": "2025-05-03T14:37:28.288477Z"
    }
   },
   "outputs": [],
   "source": [
    "# Feature Engineering Functions\n",
    "def extract_statistical_features(sequences):\n",
    "    \"\"\"Extract statistical features from sequences\n",
    "    \n",
    "    For each sequence (participant), we calculate statistical measures across the time \n",
    "    dimension to create a fixed-length feature vector regardless of sequence length.\n",
    "    These features capture the distribution characteristics of each signal.\n",
    "    \"\"\"\n",
    "    # Get dimensions\n",
    "    n_samples, seq_len, n_features = sequences.shape\n",
    "    \n",
    "    # Initialize array to hold features\n",
    "    # We'll extract 6 statistics for each feature dimension\n",
    "    stat_features = np.zeros((n_samples, n_features * 6))\n",
    "    \n",
    "    print(f\"Extracting statistical features from {n_samples} sequences with {n_features} features...\")\n",
    "    \n",
    "    for i in range(n_samples):\n",
    "        for j in range(n_features):\n",
    "            # Extract feature sequence\n",
    "            feat_seq = sequences[i, :, j]\n",
    "            \n",
    "            # Calculate core statistics\n",
    "            mean_val = np.mean(feat_seq)\n",
    "            std_val = np.std(feat_seq)\n",
    "            min_val = np.min(feat_seq)\n",
    "            max_val = np.max(feat_seq)\n",
    "            range_val = max_val - min_val\n",
    "            # Use quantiles for robustness to outliers\n",
    "            q75_q25_val = np.percentile(feat_seq, 75) - np.percentile(feat_seq, 25)\n",
    "            \n",
    "            # Store in the feature array\n",
    "            idx = j * 6\n",
    "            stat_features[i, idx:idx+6] = [mean_val, std_val, min_val, max_val, range_val, q75_q25_val]\n",
    "        \n",
    "        # Show progress\n",
    "        if i % 1000 == 0 and i > 0:\n",
    "            print(f\"Processed {i}/{n_samples} sequences\")\n",
    "    \n",
    "    # Create feature names for interpretability\n",
    "    feature_names = []\n",
    "    for j in range(n_features):\n",
    "        for stat in ['mean', 'std', 'min', 'max', 'range', 'iqr']:\n",
    "            feature_names.append(f\"feat{j+1}_{stat}\")\n",
    "    \n",
    "    return stat_features, feature_names"
   ]
  },
  {
   "cell_type": "code",
   "execution_count": 7,
   "id": "c3002465-c39a-45f1-8a8c-682b66d3836b",
   "metadata": {
    "execution": {
     "iopub.execute_input": "2025-05-03T14:37:31.492538Z",
     "iopub.status.busy": "2025-05-03T14:37:31.491982Z",
     "iopub.status.idle": "2025-05-03T14:37:31.496744Z",
     "shell.execute_reply": "2025-05-03T14:37:31.496347Z",
     "shell.execute_reply.started": "2025-05-03T14:37:31.492518Z"
    }
   },
   "outputs": [],
   "source": [
    "def extract_temporal_features(sequences):\n",
    "    \"\"\"Extract temporal dynamics features that may indicate PTSD\n",
    "    \n",
    "    These features capture how signals change over time, variance in responses,\n",
    "    and other temporal patterns that might be relevant to PTSD detection.\n",
    "    \"\"\"\n",
    "    # Get dimensions\n",
    "    n_samples, seq_len, n_features = sequences.shape\n",
    "    \n",
    "    # We'll extract 5 temporal features per input feature\n",
    "    temp_features = np.zeros((n_samples, n_features * 5))\n",
    "    \n",
    "    print(f\"Extracting temporal features from {n_samples} sequences...\")\n",
    "    \n",
    "    for i in range(n_samples):\n",
    "        for j in range(n_features):\n",
    "            # Extract feature sequence\n",
    "            feat_seq = sequences[i, :, j]\n",
    "            \n",
    "            # Calculate temporal features\n",
    "            \n",
    "            # 1. Rate of change (first derivative statistics)\n",
    "            diffs = np.diff(feat_seq)\n",
    "            mean_change = np.mean(np.abs(diffs))\n",
    "            max_change = np.max(np.abs(diffs))\n",
    "            \n",
    "            # 2. Trend features\n",
    "            # Simple linear regression slope\n",
    "            x = np.arange(seq_len)\n",
    "            slope, _, _, _, _ = np.polyfit(x, feat_seq, 1, full=True)\n",
    "            slope = slope[0] if isinstance(slope, np.ndarray) else slope\n",
    "            \n",
    "            # 3. Variability features\n",
    "            # Coefficient of variation (adjusts for magnitude)\n",
    "            cv = np.std(feat_seq) / (np.mean(np.abs(feat_seq)) + 1e-10)\n",
    "            \n",
    "            # 4. Number of peaks/fluctuations (simplified)\n",
    "            peaks = np.sum(np.logical_and(diffs[:-1] > 0, diffs[1:] < 0))\n",
    "            \n",
    "            # Store features\n",
    "            idx = j * 5\n",
    "            temp_features[i, idx:idx+5] = [mean_change, max_change, slope, cv, peaks]\n",
    "        \n",
    "        # Show progress\n",
    "        if i % 1000 == 0 and i > 0:\n",
    "            print(f\"Processed {i}/{n_samples} sequences\")\n",
    "    \n",
    "    # Create feature names for interpretability\n",
    "    feature_names = []\n",
    "    for j in range(n_features):\n",
    "        for stat in ['mean_change', 'max_change', 'trend_slope', 'coef_var', 'peaks']:\n",
    "            feature_names.append(f\"feat{j+1}_{stat}\")\n",
    "    \n",
    "    return temp_features, feature_names"
   ]
  },
  {
   "cell_type": "code",
   "execution_count": 8,
   "id": "5235de5a-7678-43ca-9681-7314c9612d4c",
   "metadata": {
    "execution": {
     "iopub.execute_input": "2025-05-03T14:37:33.332438Z",
     "iopub.status.busy": "2025-05-03T14:37:33.332269Z",
     "iopub.status.idle": "2025-05-03T14:37:33.335539Z",
     "shell.execute_reply": "2025-05-03T14:37:33.335178Z",
     "shell.execute_reply.started": "2025-05-03T14:37:33.332423Z"
    }
   },
   "outputs": [],
   "source": [
    "def combine_engineered_features(audio_sequences, visual_sequences):\n",
    "    \"\"\"Combine statistical and temporal features from both modalities\"\"\"\n",
    "    # Extract features from each modality\n",
    "    audio_stat_features, audio_stat_names = extract_statistical_features(audio_sequences)\n",
    "    audio_temp_features, audio_temp_names = extract_temporal_features(audio_sequences)\n",
    "    \n",
    "    visual_stat_features, visual_stat_names = extract_statistical_features(visual_sequences)\n",
    "    visual_temp_features, visual_temp_names = extract_temporal_features(visual_sequences)\n",
    "    \n",
    "    # Combine all features\n",
    "    all_features = np.hstack([\n",
    "        audio_stat_features, audio_temp_features,\n",
    "        visual_stat_features, visual_temp_features\n",
    "    ])\n",
    "    \n",
    "    # Create prefixed feature names\n",
    "    audio_stat_names = [f\"audio_{name}\" for name in audio_stat_names]\n",
    "    audio_temp_names = [f\"audio_{name}\" for name in audio_temp_names]\n",
    "    visual_stat_names = [f\"visual_{name}\" for name in visual_stat_names]\n",
    "    visual_temp_names = [f\"visual_{name}\" for name in visual_temp_names]\n",
    "    \n",
    "    all_feature_names = audio_stat_names + audio_temp_names + visual_stat_names + visual_temp_names\n",
    "    \n",
    "    print(f\"Combined feature shape: {all_features.shape}\")\n",
    "    print(f\"Total features: {len(all_feature_names)}\")\n",
    "    \n",
    "    return all_features, all_feature_names"
   ]
  },
  {
   "cell_type": "code",
   "execution_count": null,
   "id": "61abc0e4-4ee2-4b44-a2f0-20e496966c38",
   "metadata": {},
   "outputs": [],
   "source": []
  },
  {
   "cell_type": "code",
   "execution_count": null,
   "id": "9950361c-6450-4621-a527-a16c218b2238",
   "metadata": {},
   "outputs": [],
   "source": []
  },
  {
   "cell_type": "markdown",
   "id": "a19097bc",
   "metadata": {
    "language": "markdown"
   },
   "source": [
    "## PTSD Prediction Model\n",
    "\n",
    "Now we'll build the two-branch LSTM architecture with cross-modal attention.\n"
   ]
  },
  {
   "cell_type": "code",
   "execution_count": 9,
   "id": "bed139d6",
   "metadata": {
    "execution": {
     "iopub.execute_input": "2025-05-03T14:37:35.806959Z",
     "iopub.status.busy": "2025-05-03T14:37:35.806782Z",
     "iopub.status.idle": "2025-05-03T14:37:35.811328Z",
     "shell.execute_reply": "2025-05-03T14:37:35.810957Z",
     "shell.execute_reply.started": "2025-05-03T14:37:35.806945Z"
    },
    "language": "python",
    "tags": []
   },
   "outputs": [],
   "source": [
    "def create_two_branch_model(audio_shape, visual_shape, lstm_units=64, dropout_rate=0.5):\n",
    "    \"\"\"Create a two-branch LSTM model with cross-modal attention\"\"\"\n",
    "    # Input layers\n",
    "    audio_input = Input(shape=audio_shape[1:], name='audio_input')\n",
    "    visual_input = Input(shape=visual_shape[1:], name='visual_input')\n",
    "    \n",
    "    # Initial processing for audio with regularization\n",
    "    audio_lstm1 = LSTM(lstm_units, return_sequences=True, \n",
    "                      kernel_regularizer=tf.keras.regularizers.l2(0.001),\n",
    "                      name='audio_lstm1')(audio_input)\n",
    "    audio_batch_norm = BatchNormalization(name='audio_batch_norm')(audio_lstm1)\n",
    "    audio_dropout = Dropout(dropout_rate, name='audio_dropout')(audio_batch_norm)\n",
    "    \n",
    "    # Initial processing for visual with regularization\n",
    "    visual_lstm1 = LSTM(lstm_units, return_sequences=True, \n",
    "                       kernel_regularizer=tf.keras.regularizers.l2(0.001),\n",
    "                       name='visual_lstm1')(visual_input)\n",
    "    visual_batch_norm = BatchNormalization(name='visual_batch_norm')(visual_lstm1)\n",
    "    visual_dropout = Dropout(dropout_rate, name='visual_dropout')(visual_batch_norm)\n",
    "    \n",
    "    # Apply cross-modal attention\n",
    "    enhanced_audio, enhanced_visual = cross_modal_attention(audio_dropout, visual_dropout, 'mid_')\n",
    "    \n",
    "    # Second-level processing with regularization\n",
    "    audio_lstm2 = LSTM(lstm_units, return_sequences=False, \n",
    "                      kernel_regularizer=tf.keras.regularizers.l2(0.001),\n",
    "                      name='audio_lstm2')(enhanced_audio)\n",
    "    visual_lstm2 = LSTM(lstm_units, return_sequences=False, \n",
    "                       kernel_regularizer=tf.keras.regularizers.l2(0.001),\n",
    "                       name='visual_lstm2')(enhanced_visual)\n",
    "    \n",
    "    # Fusion of modalities\n",
    "    fusion = Concatenate(name='fusion')([audio_lstm2, visual_lstm2])\n",
    "    fusion_dropout = Dropout(dropout_rate, name='fusion_dropout')(fusion)\n",
    "    \n",
    "    # Final classification layers (reduced complexity)\n",
    "    dense1 = Dense(32, activation='relu', \n",
    "                  kernel_regularizer=tf.keras.regularizers.l2(0.001),\n",
    "                  name='dense1')(fusion_dropout)\n",
    "    output = Dense(1, activation='sigmoid', name='output')(dense1)\n",
    "    \n",
    "    # Create and compile model\n",
    "    model = Model(inputs=[audio_input, visual_input], outputs=output, name='PTSD_predictor')\n",
    "    \n",
    "    return model"
   ]
  },
  {
   "cell_type": "code",
   "execution_count": 10,
   "id": "f4f79c12",
   "metadata": {
    "execution": {
     "iopub.execute_input": "2025-05-03T14:37:41.469298Z",
     "iopub.status.busy": "2025-05-03T14:37:41.469075Z",
     "iopub.status.idle": "2025-05-03T14:37:42.112246Z",
     "shell.execute_reply": "2025-05-03T14:37:42.111852Z",
     "shell.execute_reply.started": "2025-05-03T14:37:41.469282Z"
    },
    "language": "python",
    "tags": []
   },
   "outputs": [
    {
     "name": "stderr",
     "output_type": "stream",
     "text": [
      "I0000 00:00:1746283061.554766   46331 gpu_device.cc:2019] Created device /job:localhost/replica:0/task:0/device:GPU:0 with 9957 MB memory:  -> device: 0, name: NVIDIA GeForce RTX 4070 SUPER, pci bus id: 0000:01:00.0, compute capability: 8.9\n"
     ]
    },
    {
     "data": {
      "text/html": [
       "<pre style=\"white-space:pre;overflow-x:auto;line-height:normal;font-family:Menlo,'DejaVu Sans Mono',consolas,'Courier New',monospace\"><span style=\"font-weight: bold\">Model: \"PTSD_predictor\"</span>\n",
       "</pre>\n"
      ],
      "text/plain": [
       "\u001b[1mModel: \"PTSD_predictor\"\u001b[0m\n"
      ]
     },
     "metadata": {},
     "output_type": "display_data"
    },
    {
     "data": {
      "text/html": [
       "<pre style=\"white-space:pre;overflow-x:auto;line-height:normal;font-family:Menlo,'DejaVu Sans Mono',consolas,'Courier New',monospace\">┏━━━━━━━━━━━━━━━━━━━━━┳━━━━━━━━━━━━━━━━━━━┳━━━━━━━━━━━━┳━━━━━━━━━━━━━━━━━━━┓\n",
       "┃<span style=\"font-weight: bold\"> Layer (type)        </span>┃<span style=\"font-weight: bold\"> Output Shape      </span>┃<span style=\"font-weight: bold\">    Param # </span>┃<span style=\"font-weight: bold\"> Connected to      </span>┃\n",
       "┡━━━━━━━━━━━━━━━━━━━━━╇━━━━━━━━━━━━━━━━━━━╇━━━━━━━━━━━━╇━━━━━━━━━━━━━━━━━━━┩\n",
       "│ audio_input         │ (<span style=\"color: #00d7ff; text-decoration-color: #00d7ff\">None</span>, <span style=\"color: #00af00; text-decoration-color: #00af00\">20</span>, <span style=\"color: #00af00; text-decoration-color: #00af00\">24</span>)    │          <span style=\"color: #00af00; text-decoration-color: #00af00\">0</span> │ -                 │\n",
       "│ (<span style=\"color: #0087ff; text-decoration-color: #0087ff\">InputLayer</span>)        │                   │            │                   │\n",
       "├─────────────────────┼───────────────────┼────────────┼───────────────────┤\n",
       "│ visual_input        │ (<span style=\"color: #00d7ff; text-decoration-color: #00d7ff\">None</span>, <span style=\"color: #00af00; text-decoration-color: #00af00\">20</span>, <span style=\"color: #00af00; text-decoration-color: #00af00\">53</span>)    │          <span style=\"color: #00af00; text-decoration-color: #00af00\">0</span> │ -                 │\n",
       "│ (<span style=\"color: #0087ff; text-decoration-color: #0087ff\">InputLayer</span>)        │                   │            │                   │\n",
       "├─────────────────────┼───────────────────┼────────────┼───────────────────┤\n",
       "│ audio_lstm1 (<span style=\"color: #0087ff; text-decoration-color: #0087ff\">LSTM</span>)  │ (<span style=\"color: #00d7ff; text-decoration-color: #00d7ff\">None</span>, <span style=\"color: #00af00; text-decoration-color: #00af00\">20</span>, <span style=\"color: #00af00; text-decoration-color: #00af00\">64</span>)    │     <span style=\"color: #00af00; text-decoration-color: #00af00\">22,784</span> │ audio_input[<span style=\"color: #00af00; text-decoration-color: #00af00\">0</span>][<span style=\"color: #00af00; text-decoration-color: #00af00\">0</span>] │\n",
       "├─────────────────────┼───────────────────┼────────────┼───────────────────┤\n",
       "│ visual_lstm1 (<span style=\"color: #0087ff; text-decoration-color: #0087ff\">LSTM</span>) │ (<span style=\"color: #00d7ff; text-decoration-color: #00d7ff\">None</span>, <span style=\"color: #00af00; text-decoration-color: #00af00\">20</span>, <span style=\"color: #00af00; text-decoration-color: #00af00\">64</span>)    │     <span style=\"color: #00af00; text-decoration-color: #00af00\">30,208</span> │ visual_input[<span style=\"color: #00af00; text-decoration-color: #00af00\">0</span>][<span style=\"color: #00af00; text-decoration-color: #00af00\">…</span> │\n",
       "├─────────────────────┼───────────────────┼────────────┼───────────────────┤\n",
       "│ audio_batch_norm    │ (<span style=\"color: #00d7ff; text-decoration-color: #00d7ff\">None</span>, <span style=\"color: #00af00; text-decoration-color: #00af00\">20</span>, <span style=\"color: #00af00; text-decoration-color: #00af00\">64</span>)    │        <span style=\"color: #00af00; text-decoration-color: #00af00\">256</span> │ audio_lstm1[<span style=\"color: #00af00; text-decoration-color: #00af00\">0</span>][<span style=\"color: #00af00; text-decoration-color: #00af00\">0</span>] │\n",
       "│ (<span style=\"color: #0087ff; text-decoration-color: #0087ff\">BatchNormalizatio…</span> │                   │            │                   │\n",
       "├─────────────────────┼───────────────────┼────────────┼───────────────────┤\n",
       "│ visual_batch_norm   │ (<span style=\"color: #00d7ff; text-decoration-color: #00d7ff\">None</span>, <span style=\"color: #00af00; text-decoration-color: #00af00\">20</span>, <span style=\"color: #00af00; text-decoration-color: #00af00\">64</span>)    │        <span style=\"color: #00af00; text-decoration-color: #00af00\">256</span> │ visual_lstm1[<span style=\"color: #00af00; text-decoration-color: #00af00\">0</span>][<span style=\"color: #00af00; text-decoration-color: #00af00\">…</span> │\n",
       "│ (<span style=\"color: #0087ff; text-decoration-color: #0087ff\">BatchNormalizatio…</span> │                   │            │                   │\n",
       "├─────────────────────┼───────────────────┼────────────┼───────────────────┤\n",
       "│ audio_dropout       │ (<span style=\"color: #00d7ff; text-decoration-color: #00d7ff\">None</span>, <span style=\"color: #00af00; text-decoration-color: #00af00\">20</span>, <span style=\"color: #00af00; text-decoration-color: #00af00\">64</span>)    │          <span style=\"color: #00af00; text-decoration-color: #00af00\">0</span> │ audio_batch_norm… │\n",
       "│ (<span style=\"color: #0087ff; text-decoration-color: #0087ff\">Dropout</span>)           │                   │            │                   │\n",
       "├─────────────────────┼───────────────────┼────────────┼───────────────────┤\n",
       "│ visual_dropout      │ (<span style=\"color: #00d7ff; text-decoration-color: #00d7ff\">None</span>, <span style=\"color: #00af00; text-decoration-color: #00af00\">20</span>, <span style=\"color: #00af00; text-decoration-color: #00af00\">64</span>)    │          <span style=\"color: #00af00; text-decoration-color: #00af00\">0</span> │ visual_batch_nor… │\n",
       "│ (<span style=\"color: #0087ff; text-decoration-color: #0087ff\">Dropout</span>)           │                   │            │                   │\n",
       "├─────────────────────┼───────────────────┼────────────┼───────────────────┤\n",
       "│ mid_audio_visual_a… │ (<span style=\"color: #00d7ff; text-decoration-color: #00d7ff\">None</span>, <span style=\"color: #00af00; text-decoration-color: #00af00\">20</span>, <span style=\"color: #00af00; text-decoration-color: #00af00\">64</span>)    │          <span style=\"color: #00af00; text-decoration-color: #00af00\">0</span> │ audio_dropout[<span style=\"color: #00af00; text-decoration-color: #00af00\">0</span>]… │\n",
       "│ (<span style=\"color: #0087ff; text-decoration-color: #0087ff\">Attention</span>)         │                   │            │ visual_dropout[<span style=\"color: #00af00; text-decoration-color: #00af00\">0</span>… │\n",
       "├─────────────────────┼───────────────────┼────────────┼───────────────────┤\n",
       "│ mid_visual_audio_a… │ (<span style=\"color: #00d7ff; text-decoration-color: #00d7ff\">None</span>, <span style=\"color: #00af00; text-decoration-color: #00af00\">20</span>, <span style=\"color: #00af00; text-decoration-color: #00af00\">64</span>)    │          <span style=\"color: #00af00; text-decoration-color: #00af00\">0</span> │ visual_dropout[<span style=\"color: #00af00; text-decoration-color: #00af00\">0</span>… │\n",
       "│ (<span style=\"color: #0087ff; text-decoration-color: #0087ff\">Attention</span>)         │                   │            │ audio_dropout[<span style=\"color: #00af00; text-decoration-color: #00af00\">0</span>]… │\n",
       "├─────────────────────┼───────────────────┼────────────┼───────────────────┤\n",
       "│ mid_enhanced_audio  │ (<span style=\"color: #00d7ff; text-decoration-color: #00d7ff\">None</span>, <span style=\"color: #00af00; text-decoration-color: #00af00\">20</span>, <span style=\"color: #00af00; text-decoration-color: #00af00\">128</span>)   │          <span style=\"color: #00af00; text-decoration-color: #00af00\">0</span> │ audio_dropout[<span style=\"color: #00af00; text-decoration-color: #00af00\">0</span>]… │\n",
       "│ (<span style=\"color: #0087ff; text-decoration-color: #0087ff\">Concatenate</span>)       │                   │            │ mid_audio_visual… │\n",
       "├─────────────────────┼───────────────────┼────────────┼───────────────────┤\n",
       "│ mid_enhanced_visual │ (<span style=\"color: #00d7ff; text-decoration-color: #00d7ff\">None</span>, <span style=\"color: #00af00; text-decoration-color: #00af00\">20</span>, <span style=\"color: #00af00; text-decoration-color: #00af00\">128</span>)   │          <span style=\"color: #00af00; text-decoration-color: #00af00\">0</span> │ visual_dropout[<span style=\"color: #00af00; text-decoration-color: #00af00\">0</span>… │\n",
       "│ (<span style=\"color: #0087ff; text-decoration-color: #0087ff\">Concatenate</span>)       │                   │            │ mid_visual_audio… │\n",
       "├─────────────────────┼───────────────────┼────────────┼───────────────────┤\n",
       "│ audio_lstm2 (<span style=\"color: #0087ff; text-decoration-color: #0087ff\">LSTM</span>)  │ (<span style=\"color: #00d7ff; text-decoration-color: #00d7ff\">None</span>, <span style=\"color: #00af00; text-decoration-color: #00af00\">64</span>)        │     <span style=\"color: #00af00; text-decoration-color: #00af00\">49,408</span> │ mid_enhanced_aud… │\n",
       "├─────────────────────┼───────────────────┼────────────┼───────────────────┤\n",
       "│ visual_lstm2 (<span style=\"color: #0087ff; text-decoration-color: #0087ff\">LSTM</span>) │ (<span style=\"color: #00d7ff; text-decoration-color: #00d7ff\">None</span>, <span style=\"color: #00af00; text-decoration-color: #00af00\">64</span>)        │     <span style=\"color: #00af00; text-decoration-color: #00af00\">49,408</span> │ mid_enhanced_vis… │\n",
       "├─────────────────────┼───────────────────┼────────────┼───────────────────┤\n",
       "│ fusion              │ (<span style=\"color: #00d7ff; text-decoration-color: #00d7ff\">None</span>, <span style=\"color: #00af00; text-decoration-color: #00af00\">128</span>)       │          <span style=\"color: #00af00; text-decoration-color: #00af00\">0</span> │ audio_lstm2[<span style=\"color: #00af00; text-decoration-color: #00af00\">0</span>][<span style=\"color: #00af00; text-decoration-color: #00af00\">0</span>… │\n",
       "│ (<span style=\"color: #0087ff; text-decoration-color: #0087ff\">Concatenate</span>)       │                   │            │ visual_lstm2[<span style=\"color: #00af00; text-decoration-color: #00af00\">0</span>][<span style=\"color: #00af00; text-decoration-color: #00af00\">…</span> │\n",
       "├─────────────────────┼───────────────────┼────────────┼───────────────────┤\n",
       "│ fusion_dropout      │ (<span style=\"color: #00d7ff; text-decoration-color: #00d7ff\">None</span>, <span style=\"color: #00af00; text-decoration-color: #00af00\">128</span>)       │          <span style=\"color: #00af00; text-decoration-color: #00af00\">0</span> │ fusion[<span style=\"color: #00af00; text-decoration-color: #00af00\">0</span>][<span style=\"color: #00af00; text-decoration-color: #00af00\">0</span>]      │\n",
       "│ (<span style=\"color: #0087ff; text-decoration-color: #0087ff\">Dropout</span>)           │                   │            │                   │\n",
       "├─────────────────────┼───────────────────┼────────────┼───────────────────┤\n",
       "│ dense1 (<span style=\"color: #0087ff; text-decoration-color: #0087ff\">Dense</span>)      │ (<span style=\"color: #00d7ff; text-decoration-color: #00d7ff\">None</span>, <span style=\"color: #00af00; text-decoration-color: #00af00\">32</span>)        │      <span style=\"color: #00af00; text-decoration-color: #00af00\">4,128</span> │ fusion_dropout[<span style=\"color: #00af00; text-decoration-color: #00af00\">0</span>… │\n",
       "├─────────────────────┼───────────────────┼────────────┼───────────────────┤\n",
       "│ output (<span style=\"color: #0087ff; text-decoration-color: #0087ff\">Dense</span>)      │ (<span style=\"color: #00d7ff; text-decoration-color: #00d7ff\">None</span>, <span style=\"color: #00af00; text-decoration-color: #00af00\">1</span>)         │         <span style=\"color: #00af00; text-decoration-color: #00af00\">33</span> │ dense1[<span style=\"color: #00af00; text-decoration-color: #00af00\">0</span>][<span style=\"color: #00af00; text-decoration-color: #00af00\">0</span>]      │\n",
       "└─────────────────────┴───────────────────┴────────────┴───────────────────┘\n",
       "</pre>\n"
      ],
      "text/plain": [
       "┏━━━━━━━━━━━━━━━━━━━━━┳━━━━━━━━━━━━━━━━━━━┳━━━━━━━━━━━━┳━━━━━━━━━━━━━━━━━━━┓\n",
       "┃\u001b[1m \u001b[0m\u001b[1mLayer (type)       \u001b[0m\u001b[1m \u001b[0m┃\u001b[1m \u001b[0m\u001b[1mOutput Shape     \u001b[0m\u001b[1m \u001b[0m┃\u001b[1m \u001b[0m\u001b[1m   Param #\u001b[0m\u001b[1m \u001b[0m┃\u001b[1m \u001b[0m\u001b[1mConnected to     \u001b[0m\u001b[1m \u001b[0m┃\n",
       "┡━━━━━━━━━━━━━━━━━━━━━╇━━━━━━━━━━━━━━━━━━━╇━━━━━━━━━━━━╇━━━━━━━━━━━━━━━━━━━┩\n",
       "│ audio_input         │ (\u001b[38;5;45mNone\u001b[0m, \u001b[38;5;34m20\u001b[0m, \u001b[38;5;34m24\u001b[0m)    │          \u001b[38;5;34m0\u001b[0m │ -                 │\n",
       "│ (\u001b[38;5;33mInputLayer\u001b[0m)        │                   │            │                   │\n",
       "├─────────────────────┼───────────────────┼────────────┼───────────────────┤\n",
       "│ visual_input        │ (\u001b[38;5;45mNone\u001b[0m, \u001b[38;5;34m20\u001b[0m, \u001b[38;5;34m53\u001b[0m)    │          \u001b[38;5;34m0\u001b[0m │ -                 │\n",
       "│ (\u001b[38;5;33mInputLayer\u001b[0m)        │                   │            │                   │\n",
       "├─────────────────────┼───────────────────┼────────────┼───────────────────┤\n",
       "│ audio_lstm1 (\u001b[38;5;33mLSTM\u001b[0m)  │ (\u001b[38;5;45mNone\u001b[0m, \u001b[38;5;34m20\u001b[0m, \u001b[38;5;34m64\u001b[0m)    │     \u001b[38;5;34m22,784\u001b[0m │ audio_input[\u001b[38;5;34m0\u001b[0m][\u001b[38;5;34m0\u001b[0m] │\n",
       "├─────────────────────┼───────────────────┼────────────┼───────────────────┤\n",
       "│ visual_lstm1 (\u001b[38;5;33mLSTM\u001b[0m) │ (\u001b[38;5;45mNone\u001b[0m, \u001b[38;5;34m20\u001b[0m, \u001b[38;5;34m64\u001b[0m)    │     \u001b[38;5;34m30,208\u001b[0m │ visual_input[\u001b[38;5;34m0\u001b[0m][\u001b[38;5;34m…\u001b[0m │\n",
       "├─────────────────────┼───────────────────┼────────────┼───────────────────┤\n",
       "│ audio_batch_norm    │ (\u001b[38;5;45mNone\u001b[0m, \u001b[38;5;34m20\u001b[0m, \u001b[38;5;34m64\u001b[0m)    │        \u001b[38;5;34m256\u001b[0m │ audio_lstm1[\u001b[38;5;34m0\u001b[0m][\u001b[38;5;34m0\u001b[0m] │\n",
       "│ (\u001b[38;5;33mBatchNormalizatio…\u001b[0m │                   │            │                   │\n",
       "├─────────────────────┼───────────────────┼────────────┼───────────────────┤\n",
       "│ visual_batch_norm   │ (\u001b[38;5;45mNone\u001b[0m, \u001b[38;5;34m20\u001b[0m, \u001b[38;5;34m64\u001b[0m)    │        \u001b[38;5;34m256\u001b[0m │ visual_lstm1[\u001b[38;5;34m0\u001b[0m][\u001b[38;5;34m…\u001b[0m │\n",
       "│ (\u001b[38;5;33mBatchNormalizatio…\u001b[0m │                   │            │                   │\n",
       "├─────────────────────┼───────────────────┼────────────┼───────────────────┤\n",
       "│ audio_dropout       │ (\u001b[38;5;45mNone\u001b[0m, \u001b[38;5;34m20\u001b[0m, \u001b[38;5;34m64\u001b[0m)    │          \u001b[38;5;34m0\u001b[0m │ audio_batch_norm… │\n",
       "│ (\u001b[38;5;33mDropout\u001b[0m)           │                   │            │                   │\n",
       "├─────────────────────┼───────────────────┼────────────┼───────────────────┤\n",
       "│ visual_dropout      │ (\u001b[38;5;45mNone\u001b[0m, \u001b[38;5;34m20\u001b[0m, \u001b[38;5;34m64\u001b[0m)    │          \u001b[38;5;34m0\u001b[0m │ visual_batch_nor… │\n",
       "│ (\u001b[38;5;33mDropout\u001b[0m)           │                   │            │                   │\n",
       "├─────────────────────┼───────────────────┼────────────┼───────────────────┤\n",
       "│ mid_audio_visual_a… │ (\u001b[38;5;45mNone\u001b[0m, \u001b[38;5;34m20\u001b[0m, \u001b[38;5;34m64\u001b[0m)    │          \u001b[38;5;34m0\u001b[0m │ audio_dropout[\u001b[38;5;34m0\u001b[0m]… │\n",
       "│ (\u001b[38;5;33mAttention\u001b[0m)         │                   │            │ visual_dropout[\u001b[38;5;34m0\u001b[0m… │\n",
       "├─────────────────────┼───────────────────┼────────────┼───────────────────┤\n",
       "│ mid_visual_audio_a… │ (\u001b[38;5;45mNone\u001b[0m, \u001b[38;5;34m20\u001b[0m, \u001b[38;5;34m64\u001b[0m)    │          \u001b[38;5;34m0\u001b[0m │ visual_dropout[\u001b[38;5;34m0\u001b[0m… │\n",
       "│ (\u001b[38;5;33mAttention\u001b[0m)         │                   │            │ audio_dropout[\u001b[38;5;34m0\u001b[0m]… │\n",
       "├─────────────────────┼───────────────────┼────────────┼───────────────────┤\n",
       "│ mid_enhanced_audio  │ (\u001b[38;5;45mNone\u001b[0m, \u001b[38;5;34m20\u001b[0m, \u001b[38;5;34m128\u001b[0m)   │          \u001b[38;5;34m0\u001b[0m │ audio_dropout[\u001b[38;5;34m0\u001b[0m]… │\n",
       "│ (\u001b[38;5;33mConcatenate\u001b[0m)       │                   │            │ mid_audio_visual… │\n",
       "├─────────────────────┼───────────────────┼────────────┼───────────────────┤\n",
       "│ mid_enhanced_visual │ (\u001b[38;5;45mNone\u001b[0m, \u001b[38;5;34m20\u001b[0m, \u001b[38;5;34m128\u001b[0m)   │          \u001b[38;5;34m0\u001b[0m │ visual_dropout[\u001b[38;5;34m0\u001b[0m… │\n",
       "│ (\u001b[38;5;33mConcatenate\u001b[0m)       │                   │            │ mid_visual_audio… │\n",
       "├─────────────────────┼───────────────────┼────────────┼───────────────────┤\n",
       "│ audio_lstm2 (\u001b[38;5;33mLSTM\u001b[0m)  │ (\u001b[38;5;45mNone\u001b[0m, \u001b[38;5;34m64\u001b[0m)        │     \u001b[38;5;34m49,408\u001b[0m │ mid_enhanced_aud… │\n",
       "├─────────────────────┼───────────────────┼────────────┼───────────────────┤\n",
       "│ visual_lstm2 (\u001b[38;5;33mLSTM\u001b[0m) │ (\u001b[38;5;45mNone\u001b[0m, \u001b[38;5;34m64\u001b[0m)        │     \u001b[38;5;34m49,408\u001b[0m │ mid_enhanced_vis… │\n",
       "├─────────────────────┼───────────────────┼────────────┼───────────────────┤\n",
       "│ fusion              │ (\u001b[38;5;45mNone\u001b[0m, \u001b[38;5;34m128\u001b[0m)       │          \u001b[38;5;34m0\u001b[0m │ audio_lstm2[\u001b[38;5;34m0\u001b[0m][\u001b[38;5;34m0\u001b[0m… │\n",
       "│ (\u001b[38;5;33mConcatenate\u001b[0m)       │                   │            │ visual_lstm2[\u001b[38;5;34m0\u001b[0m][\u001b[38;5;34m…\u001b[0m │\n",
       "├─────────────────────┼───────────────────┼────────────┼───────────────────┤\n",
       "│ fusion_dropout      │ (\u001b[38;5;45mNone\u001b[0m, \u001b[38;5;34m128\u001b[0m)       │          \u001b[38;5;34m0\u001b[0m │ fusion[\u001b[38;5;34m0\u001b[0m][\u001b[38;5;34m0\u001b[0m]      │\n",
       "│ (\u001b[38;5;33mDropout\u001b[0m)           │                   │            │                   │\n",
       "├─────────────────────┼───────────────────┼────────────┼───────────────────┤\n",
       "│ dense1 (\u001b[38;5;33mDense\u001b[0m)      │ (\u001b[38;5;45mNone\u001b[0m, \u001b[38;5;34m32\u001b[0m)        │      \u001b[38;5;34m4,128\u001b[0m │ fusion_dropout[\u001b[38;5;34m0\u001b[0m… │\n",
       "├─────────────────────┼───────────────────┼────────────┼───────────────────┤\n",
       "│ output (\u001b[38;5;33mDense\u001b[0m)      │ (\u001b[38;5;45mNone\u001b[0m, \u001b[38;5;34m1\u001b[0m)         │         \u001b[38;5;34m33\u001b[0m │ dense1[\u001b[38;5;34m0\u001b[0m][\u001b[38;5;34m0\u001b[0m]      │\n",
       "└─────────────────────┴───────────────────┴────────────┴───────────────────┘\n"
      ]
     },
     "metadata": {},
     "output_type": "display_data"
    },
    {
     "data": {
      "text/html": [
       "<pre style=\"white-space:pre;overflow-x:auto;line-height:normal;font-family:Menlo,'DejaVu Sans Mono',consolas,'Courier New',monospace\"><span style=\"font-weight: bold\"> Total params: </span><span style=\"color: #00af00; text-decoration-color: #00af00\">156,481</span> (611.25 KB)\n",
       "</pre>\n"
      ],
      "text/plain": [
       "\u001b[1m Total params: \u001b[0m\u001b[38;5;34m156,481\u001b[0m (611.25 KB)\n"
      ]
     },
     "metadata": {},
     "output_type": "display_data"
    },
    {
     "data": {
      "text/html": [
       "<pre style=\"white-space:pre;overflow-x:auto;line-height:normal;font-family:Menlo,'DejaVu Sans Mono',consolas,'Courier New',monospace\"><span style=\"font-weight: bold\"> Trainable params: </span><span style=\"color: #00af00; text-decoration-color: #00af00\">156,225</span> (610.25 KB)\n",
       "</pre>\n"
      ],
      "text/plain": [
       "\u001b[1m Trainable params: \u001b[0m\u001b[38;5;34m156,225\u001b[0m (610.25 KB)\n"
      ]
     },
     "metadata": {},
     "output_type": "display_data"
    },
    {
     "data": {
      "text/html": [
       "<pre style=\"white-space:pre;overflow-x:auto;line-height:normal;font-family:Menlo,'DejaVu Sans Mono',consolas,'Courier New',monospace\"><span style=\"font-weight: bold\"> Non-trainable params: </span><span style=\"color: #00af00; text-decoration-color: #00af00\">256</span> (1.00 KB)\n",
       "</pre>\n"
      ],
      "text/plain": [
       "\u001b[1m Non-trainable params: \u001b[0m\u001b[38;5;34m256\u001b[0m (1.00 KB)\n"
      ]
     },
     "metadata": {},
     "output_type": "display_data"
    }
   ],
   "source": [
    "# Create the model\n",
    "model = create_two_branch_model(train_audio.shape, train_visual.shape)\n",
    "\n",
    "# Visualize the model architecture\n",
    "model.summary()"
   ]
  },
  {
   "cell_type": "markdown",
   "id": "d4d3b03f",
   "metadata": {
    "language": "markdown"
   },
   "source": [
    "## Training Setup with Class Weighting\n",
    "\n",
    "To address class imbalance, we'll use class weights during training.\n"
   ]
  },
  {
   "cell_type": "code",
   "execution_count": 11,
   "id": "9bf6040f-bd13-46f7-a087-8faf735144a2",
   "metadata": {
    "execution": {
     "iopub.execute_input": "2025-05-03T14:37:46.539107Z",
     "iopub.status.busy": "2025-05-03T14:37:46.538422Z",
     "iopub.status.idle": "2025-05-03T14:37:46.542128Z",
     "shell.execute_reply": "2025-05-03T14:37:46.541819Z",
     "shell.execute_reply.started": "2025-05-03T14:37:46.539088Z"
    }
   },
   "outputs": [],
   "source": [
    "def focal_loss(gamma=2.0, alpha=0.25):\n",
    "    \"\"\"\n",
    "    Focal Loss function for binary classification with imbalanced data\n",
    "    \n",
    "    Arguments:\n",
    "        gamma: focusing parameter that controls how much to focus on hard examples\n",
    "        alpha: weighting factor for the positive class\n",
    "    \n",
    "    Returns:\n",
    "        Focal loss function\n",
    "    \"\"\"\n",
    "    def focal_loss_fn(y_true, y_pred):\n",
    "        import tensorflow.keras.backend as K\n",
    "        \n",
    "        # Clip predictions to prevent numerical instability\n",
    "        y_pred = K.clip(y_pred, K.epsilon(), 1 - K.epsilon())\n",
    "        \n",
    "        # Calculate focal loss\n",
    "        pt_1 = tf.where(tf.equal(y_true, 1), y_pred, tf.ones_like(y_pred))\n",
    "        pt_0 = tf.where(tf.equal(y_true, 0), y_pred, tf.zeros_like(y_pred))\n",
    "        \n",
    "        # Apply focal term\n",
    "        return -K.mean(alpha * K.pow(1. - pt_1, gamma) * K.log(pt_1 + K.epsilon())) - \\\n",
    "               K.mean((1 - alpha) * K.pow(pt_0, gamma) * K.log(1. - pt_0 + K.epsilon()))\n",
    "    \n",
    "    return focal_loss_fn"
   ]
  },
  {
   "cell_type": "code",
   "execution_count": 12,
   "id": "e28922b0",
   "metadata": {
    "execution": {
     "iopub.execute_input": "2025-05-03T14:37:48.333112Z",
     "iopub.status.busy": "2025-05-03T14:37:48.332898Z",
     "iopub.status.idle": "2025-05-03T14:37:48.376572Z",
     "shell.execute_reply": "2025-05-03T14:37:48.376121Z",
     "shell.execute_reply.started": "2025-05-03T14:37:48.333097Z"
    },
    "language": "python",
    "tags": []
   },
   "outputs": [
    {
     "name": "stdout",
     "output_type": "stream",
     "text": [
      "Class weights: {0: np.float64(0.7326156267967003), 1: np.float64(1.5747343308044093)}\n"
     ]
    }
   ],
   "source": [
    "# Calculate class weights to handle imbalance\n",
    "class_weights = class_weight.compute_class_weight(\n",
    "    class_weight='balanced',\n",
    "    classes=np.unique(train_labels),\n",
    "    y=train_labels\n",
    ")\n",
    "class_weight_dict = {i: w for i, w in enumerate(class_weights)}\n",
    "print(f\"Class weights: {class_weight_dict}\")\n",
    "\n",
    "# Compile the model with focal loss for better handling of class imbalance\n",
    "model.compile(\n",
    "    optimizer=Adam(learning_rate=0.0005),  # Lower learning rate\n",
    "    loss=focal_loss(gamma=2.0, alpha=0.25), # Using focal loss instead of binary_crossentropy\n",
    "    metrics=['accuracy',\n",
    "             tf.keras.metrics.Precision(name='precision'), \n",
    "             tf.keras.metrics.Recall(name='recall'),\n",
    "             tf.keras.metrics.AUC(name='auc')]\n",
    ")"
   ]
  },
  {
   "cell_type": "code",
   "execution_count": 13,
   "id": "ed0f3d68",
   "metadata": {
    "execution": {
     "iopub.execute_input": "2025-05-03T14:37:52.975763Z",
     "iopub.status.busy": "2025-05-03T14:37:52.975510Z",
     "iopub.status.idle": "2025-05-03T14:37:52.978386Z",
     "shell.execute_reply": "2025-05-03T14:37:52.978067Z",
     "shell.execute_reply.started": "2025-05-03T14:37:52.975746Z"
    },
    "language": "python",
    "tags": []
   },
   "outputs": [],
   "source": [
    "# Define improved callbacks\n",
    "callbacks = [\n",
    "    EarlyStopping(\n",
    "        monitor='val_loss',  # Change from val_auc to val_loss\n",
    "        patience=5,          # Reduce patience to stop earlier\n",
    "        mode='min',          # Change to 'min' since we're monitoring loss\n",
    "        restore_best_weights=True,\n",
    "        verbose=1\n",
    "    ),\n",
    "    ModelCheckpoint(\n",
    "        filepath=f\"{MODEL_PATH}/best_model.h5\",\n",
    "        monitor='val_loss',  # Change to val_loss\n",
    "        mode='min',         # Change to 'min'\n",
    "        save_best_only=True\n",
    "    ),\n",
    "    ReduceLROnPlateau(\n",
    "        monitor='val_loss',\n",
    "        factor=0.2,        # More aggressive reduction\n",
    "        patience=3,        # Reduce patience\n",
    "        min_lr=0.000001,\n",
    "        verbose=1\n",
    "    )\n",
    "]"
   ]
  },
  {
   "cell_type": "markdown",
   "id": "1cddacad",
   "metadata": {
    "language": "markdown"
   },
   "source": [
    "## Training the Model\n",
    "\n",
    "Now we'll train the model with our multimodal data.\n"
   ]
  },
  {
   "cell_type": "code",
   "execution_count": 14,
   "id": "5031eb71-a55e-46e2-84d3-d001f37c1321",
   "metadata": {
    "execution": {
     "iopub.execute_input": "2025-05-03T14:37:55.783511Z",
     "iopub.status.busy": "2025-05-03T14:37:55.783325Z",
     "iopub.status.idle": "2025-05-03T14:37:55.786104Z",
     "shell.execute_reply": "2025-05-03T14:37:55.785686Z",
     "shell.execute_reply.started": "2025-05-03T14:37:55.783495Z"
    }
   },
   "outputs": [],
   "source": [
    "def augment_sequence(sequence, noise_level=0.05):\n",
    "    \"\"\"Add random noise to time series data for augmentation\"\"\"\n",
    "    noise = noise_level * np.random.normal(0, 1, sequence.shape)\n",
    "    return sequence + noise"
   ]
  },
  {
   "cell_type": "code",
   "execution_count": 15,
   "id": "45bb696c-3f3e-4fe8-addb-3339ea3dacf2",
   "metadata": {
    "execution": {
     "iopub.execute_input": "2025-05-03T14:37:57.308307Z",
     "iopub.status.busy": "2025-05-03T14:37:57.308151Z",
     "iopub.status.idle": "2025-05-03T14:37:57.313811Z",
     "shell.execute_reply": "2025-05-03T14:37:57.313247Z",
     "shell.execute_reply.started": "2025-05-03T14:37:57.308294Z"
    }
   },
   "outputs": [],
   "source": [
    "def process_with_gpu_memory_constraints(train_audio, train_visual, train_labels, dev_audio, dev_visual, dev_labels, batch_size=32):\n",
    "    \"\"\"\n",
    "    Process data in smaller batches to avoid GPU memory issues and apply data augmentation\n",
    "    to address class imbalance\n",
    "    \"\"\"\n",
    "    print(\"Processing data with GPU memory constraints and data augmentation...\")\n",
    "    \n",
    "    # 1. Use CPU for initial tensor conversions\n",
    "    with tf.device('/CPU:0'):\n",
    "        # Make sure labels match the size of features\n",
    "        num_train_samples = min(len(train_audio), len(train_visual))\n",
    "        train_labels_subset = train_labels[:num_train_samples]\n",
    "        \n",
    "        num_dev_samples = min(len(dev_audio), len(dev_visual))\n",
    "        dev_labels_subset = dev_labels[:num_dev_samples]\n",
    "        \n",
    "        # Apply data augmentation for minority class (PTSD positive)\n",
    "        print(\"Applying data augmentation to balance classes...\")\n",
    "        augmented_audio = []\n",
    "        augmented_visual = []\n",
    "        augmented_labels = []\n",
    "        \n",
    "        # Count positive samples\n",
    "        positive_count = np.sum(train_labels_subset == 1)\n",
    "        negative_count = np.sum(train_labels_subset == 0)\n",
    "        augmentation_factor = min(3, int(negative_count / positive_count) - 1)\n",
    "        print(f\"Class distribution before augmentation: {positive_count} positive, {negative_count} negative\")\n",
    "        print(f\"Augmentation factor: {augmentation_factor}x\")\n",
    "        \n",
    "        for i in range(num_train_samples):\n",
    "            if train_labels_subset[i] == 1:  # PTSD positive class\n",
    "                # Add multiple augmented samples for each positive sample\n",
    "                for _ in range(augmentation_factor):\n",
    "                    augmented_audio.append(augment_sequence(train_audio[i]))\n",
    "                    augmented_visual.append(augment_sequence(train_visual[i]))\n",
    "                    augmented_labels.append(1)\n",
    "        \n",
    "        # Append augmented samples to original data\n",
    "        train_audio_combined = np.vstack([train_audio[:num_train_samples], np.array(augmented_audio)])\n",
    "        train_visual_combined = np.vstack([train_visual[:num_train_samples], np.array(augmented_visual)])\n",
    "        train_labels_combined = np.append(train_labels_subset, augmented_labels)\n",
    "        \n",
    "        print(f\"Added {len(augmented_labels)} augmented positive samples\")\n",
    "        print(f\"Class distribution after augmentation: {np.sum(train_labels_combined == 1)}/{len(train_labels_combined)} positive samples\")\n",
    "        \n",
    "        # Create sample weights for class imbalance\n",
    "        classes = np.unique(train_labels_combined)\n",
    "        class_weights = class_weight.compute_class_weight(\n",
    "            class_weight='balanced',\n",
    "            classes=classes,\n",
    "            y=train_labels_combined\n",
    "        )\n",
    "        class_weight_dict = {i: w for i, w in enumerate(class_weights)}\n",
    "        \n",
    "        # Create dataset objects to handle memory efficiently\n",
    "        train_dataset = tf.data.Dataset.from_tensor_slices(\n",
    "            ((train_audio_combined, train_visual_combined), train_labels_combined)\n",
    "        ).shuffle(buffer_size=10000).batch(batch_size)\n",
    "        \n",
    "        val_dataset = tf.data.Dataset.from_tensor_slices(\n",
    "            ((dev_audio[:num_dev_samples], dev_visual[:num_dev_samples]), dev_labels_subset)\n",
    "        ).batch(batch_size)\n",
    "    \n",
    "    # 2. Return the TensorFlow datasets and related info\n",
    "    return {\n",
    "        'train_dataset': train_dataset,\n",
    "        'val_dataset': val_dataset,\n",
    "        'class_weight_dict': class_weight_dict,\n",
    "        'train_samples': len(train_labels_combined),\n",
    "        'val_samples': num_dev_samples,\n",
    "        'batch_size': batch_size\n",
    "    }"
   ]
  },
  {
   "cell_type": "code",
   "execution_count": 16,
   "id": "1133236e",
   "metadata": {
    "execution": {
     "iopub.execute_input": "2025-05-03T14:37:59.688758Z",
     "iopub.status.busy": "2025-05-03T14:37:59.688501Z",
     "iopub.status.idle": "2025-05-03T14:39:07.129595Z",
     "shell.execute_reply": "2025-05-03T14:39:07.129201Z",
     "shell.execute_reply.started": "2025-05-03T14:37:59.688741Z"
    },
    "language": "python",
    "tags": []
   },
   "outputs": [
    {
     "name": "stdout",
     "output_type": "stream",
     "text": [
      "\n",
      "Using batch size of 32 for memory efficiency\n",
      "Processing data with GPU memory constraints and data augmentation...\n",
      "Applying data augmentation to balance classes...\n",
      "Class distribution before augmentation: 7120 positive, 23700 negative\n",
      "Augmentation factor: 2x\n",
      "Added 14240 augmented positive samples\n",
      "Class distribution after augmentation: 21360/45060 positive samples\n",
      "\n",
      "Number of training samples after augmentation: 45060\n",
      "Number of validation samples: 17442\n",
      "Using class weights: {0: np.float64(0.950632911392405), 1: np.float64(1.0547752808988764)}\n",
      "\n",
      "Starting training with TensorFlow Dataset API (memory-efficient)...\n",
      "Epoch 1/30\n"
     ]
    },
    {
     "name": "stderr",
     "output_type": "stream",
     "text": [
      "I0000 00:00:1746283082.833519   49741 cuda_dnn.cc:529] Loaded cuDNN version 90300\n"
     ]
    },
    {
     "name": "stdout",
     "output_type": "stream",
     "text": [
      "\u001b[1m1409/1409\u001b[0m \u001b[32m━━━━━━━━━━━━━━━━━━━━\u001b[0m\u001b[37m\u001b[0m \u001b[1m0s\u001b[0m 5ms/step - accuracy: 0.8788 - auc: 0.7445 - loss: 0.2502 - precision: 0.6757 - recall: 0.3479"
     ]
    },
    {
     "name": "stderr",
     "output_type": "stream",
     "text": [
      "WARNING:absl:You are saving your model as an HDF5 file via `model.save()` or `keras.saving.save_model(model)`. This file format is considered legacy. We recommend using instead the native Keras format, e.g. `model.save('my_model.keras')` or `keras.saving.save_model(model, 'my_model.keras')`. \n"
     ]
    },
    {
     "name": "stdout",
     "output_type": "stream",
     "text": [
      "\u001b[1m1409/1409\u001b[0m \u001b[32m━━━━━━━━━━━━━━━━━━━━\u001b[0m\u001b[37m\u001b[0m \u001b[1m13s\u001b[0m 7ms/step - accuracy: 0.8788 - auc: 0.7446 - loss: 0.2501 - precision: 0.6759 - recall: 0.3482 - val_accuracy: 0.4416 - val_auc: 0.4243 - val_loss: 0.2021 - val_precision: 0.5248 - val_recall: 0.2766 - learning_rate: 5.0000e-04\n",
      "Epoch 2/30\n",
      "\u001b[1m1408/1409\u001b[0m \u001b[32m━━━━━━━━━━━━━━━━━━━\u001b[0m\u001b[37m━\u001b[0m \u001b[1m0s\u001b[0m 5ms/step - accuracy: 0.9450 - auc: 0.8282 - loss: 0.0400 - precision: 0.7505 - recall: 0.6711"
     ]
    },
    {
     "name": "stderr",
     "output_type": "stream",
     "text": [
      "WARNING:absl:You are saving your model as an HDF5 file via `model.save()` or `keras.saving.save_model(model)`. This file format is considered legacy. We recommend using instead the native Keras format, e.g. `model.save('my_model.keras')` or `keras.saving.save_model(model, 'my_model.keras')`. \n"
     ]
    },
    {
     "name": "stdout",
     "output_type": "stream",
     "text": [
      "\u001b[1m1409/1409\u001b[0m \u001b[32m━━━━━━━━━━━━━━━━━━━━\u001b[0m\u001b[37m\u001b[0m \u001b[1m9s\u001b[0m 6ms/step - accuracy: 0.9450 - auc: 0.8284 - loss: 0.0399 - precision: 0.7509 - recall: 0.6715 - val_accuracy: 0.4649 - val_auc: 0.4433 - val_loss: 0.1940 - val_precision: 0.5694 - val_recall: 0.2735 - learning_rate: 5.0000e-04\n",
      "Epoch 3/30\n",
      "\u001b[1m1409/1409\u001b[0m \u001b[32m━━━━━━━━━━━━━━━━━━━━\u001b[0m\u001b[37m\u001b[0m \u001b[1m9s\u001b[0m 6ms/step - accuracy: 0.9629 - auc: 0.8423 - loss: 0.0266 - precision: 0.7755 - recall: 0.7214 - val_accuracy: 0.4413 - val_auc: 0.4366 - val_loss: 0.2256 - val_precision: 0.5340 - val_recall: 0.2013 - learning_rate: 5.0000e-04\n",
      "Epoch 4/30\n",
      "\u001b[1m1409/1409\u001b[0m \u001b[32m━━━━━━━━━━━━━━━━━━━━\u001b[0m\u001b[37m\u001b[0m \u001b[1m9s\u001b[0m 6ms/step - accuracy: 0.9684 - auc: 0.8460 - loss: 0.0212 - precision: 0.7818 - recall: 0.7280 - val_accuracy: 0.4479 - val_auc: 0.4422 - val_loss: 0.2702 - val_precision: 0.5493 - val_recall: 0.2067 - learning_rate: 5.0000e-04\n",
      "Epoch 5/30\n",
      "\u001b[1m1402/1409\u001b[0m \u001b[32m━━━━━━━━━━━━━━━━━━━\u001b[0m\u001b[37m━\u001b[0m \u001b[1m0s\u001b[0m 5ms/step - accuracy: 0.9735 - auc: 0.8473 - loss: 0.0203 - precision: 0.7956 - recall: 0.7561\n",
      "Epoch 5: ReduceLROnPlateau reducing learning rate to 0.00010000000474974513.\n",
      "\u001b[1m1409/1409\u001b[0m \u001b[32m━━━━━━━━━━━━━━━━━━━━\u001b[0m\u001b[37m\u001b[0m \u001b[1m9s\u001b[0m 6ms/step - accuracy: 0.9735 - auc: 0.8482 - loss: 0.0203 - precision: 0.7967 - recall: 0.7572 - val_accuracy: 0.4412 - val_auc: 0.4251 - val_loss: 0.2106 - val_precision: 0.5362 - val_recall: 0.1883 - learning_rate: 5.0000e-04\n",
      "Epoch 6/30\n",
      "\u001b[1m1409/1409\u001b[0m \u001b[32m━━━━━━━━━━━━━━━━━━━━\u001b[0m\u001b[37m\u001b[0m \u001b[1m9s\u001b[0m 6ms/step - accuracy: 0.9781 - auc: 0.8498 - loss: 0.0198 - precision: 0.7933 - recall: 0.7947 - val_accuracy: 0.4379 - val_auc: 0.4259 - val_loss: 0.3052 - val_precision: 0.5321 - val_recall: 0.1626 - learning_rate: 1.0000e-04\n",
      "Epoch 7/30\n",
      "\u001b[1m1409/1409\u001b[0m \u001b[32m━━━━━━━━━━━━━━━━━━━━\u001b[0m\u001b[37m\u001b[0m \u001b[1m9s\u001b[0m 6ms/step - accuracy: 0.9891 - auc: 0.8532 - loss: 0.0122 - precision: 0.8232 - recall: 0.8173 - val_accuracy: 0.4321 - val_auc: 0.4186 - val_loss: 0.3323 - val_precision: 0.5152 - val_recall: 0.1598 - learning_rate: 1.0000e-04\n",
      "Epoch 7: early stopping\n",
      "Restoring model weights from the end of the best epoch: 2.\n"
     ]
    }
   ],
   "source": [
    "# Process the data using our memory-efficient approach with data augmentation\n",
    "batch_size = 32\n",
    "print(f\"\\nUsing batch size of {batch_size} for memory efficiency\")\n",
    "\n",
    "# Create the TensorFlow datasets - this processes the data efficiently and applies data augmentation\n",
    "processed_data = process_with_gpu_memory_constraints(\n",
    "    train_audio, \n",
    "    train_visual, \n",
    "    train_labels,\n",
    "    dev_audio,\n",
    "    dev_visual,\n",
    "    dev_labels,\n",
    "    batch_size=batch_size\n",
    ")\n",
    "\n",
    "# Extract the datasets and class weights\n",
    "train_dataset = processed_data['train_dataset']\n",
    "val_dataset = processed_data['val_dataset']\n",
    "class_weight_dict = processed_data['class_weight_dict']\n",
    "\n",
    "# Print information about our data\n",
    "print(f\"\\nNumber of training samples after augmentation: {processed_data['train_samples']}\")\n",
    "print(f\"Number of validation samples: {processed_data['val_samples']}\")\n",
    "print(f\"Using class weights: {class_weight_dict}\")\n",
    "\n",
    "# Train using the TensorFlow Dataset API (memory-efficient)\n",
    "print(\"\\nStarting training with TensorFlow Dataset API (memory-efficient)...\")\n",
    "\n",
    "history = model.fit(\n",
    "    train_dataset,\n",
    "    epochs=30,  # Reduce epochs to prevent overfitting\n",
    "    validation_data=val_dataset,\n",
    "    callbacks=callbacks,\n",
    "    verbose=1\n",
    ")"
   ]
  },
  {
   "cell_type": "markdown",
   "id": "9094f735",
   "metadata": {
    "language": "markdown"
   },
   "source": [
    "## Evaluate the Model\n",
    "\n",
    "Let's evaluate the model's performance on the test set.\n"
   ]
  },
  {
   "cell_type": "code",
   "execution_count": null,
   "id": "66224650",
   "metadata": {
    "language": "python"
   },
   "outputs": [],
   "source": [
    "# Plot training history\n",
    "def plot_history(history):\n",
    "    fig, axes = plt.subplots(2, 2, figsize=(15, 10))\n",
    "    \n",
    "    # Plot accuracy\n",
    "    axes[0, 0].plot(history.history['accuracy'], label='Train')\n",
    "    axes[0, 0].plot(history.history['val_accuracy'], label='Validation')\n",
    "    axes[0, 0].set_title('Accuracy')\n",
    "    axes[0, 0].set_xlabel('Epoch')\n",
    "    axes[0, 0].set_ylabel('Accuracy')\n",
    "    axes[0, 0].legend()\n",
    "    \n",
    "    # Plot loss\n",
    "    axes[0, 1].plot(history.history['loss'], label='Train')\n",
    "    axes[0, 1].plot(history.history['val_loss'], label='Validation')\n",
    "    axes[0, 1].set_title('Loss')\n",
    "    axes[0, 1].set_xlabel('Epoch')\n",
    "    axes[0, 1].set_ylabel('Loss')\n",
    "    axes[0, 1].legend()\n",
    "    \n",
    "    # Plot AUC\n",
    "    axes[1, 0].plot(history.history['auc'], label='Train')\n",
    "    axes[1, 0].plot(history.history['val_auc'], label='Validation')\n",
    "    axes[1, 0].set_title('AUC')\n",
    "    axes[1, 0].set_xlabel('Epoch')\n",
    "    axes[1, 0].set_ylabel('AUC')\n",
    "    axes[1, 0].legend()\n",
    "    \n",
    "    # Plot recall and precision\n",
    "    axes[1, 1].plot(history.history['precision'], label='Precision (Train)')\n",
    "    axes[1, 1].plot(history.history['val_precision'], label='Precision (Val)')\n",
    "    axes[1, 1].plot(history.history['recall'], label='Recall (Train)')\n",
    "    axes[1, 1].plot(history.history['val_recall'], label='Recall (Val)')\n",
    "    axes[1, 1].set_title('Precision & Recall')\n",
    "    axes[1, 1].set_xlabel('Epoch')\n",
    "    axes[1, 1].legend()\n",
    "    \n",
    "    plt.tight_layout()\n",
    "    plt.savefig(f\"{RESULTS_PATH}/training_history.png\")\n",
    "    plt.show()\n",
    "\n",
    "# Plot training history\n",
    "plot_history(history)"
   ]
  },
  {
   "cell_type": "markdown",
   "id": "c316fef3-f4de-49b7-b978-e3de1d093e2c",
   "metadata": {},
   "source": [
    "# Evaluation of test set"
   ]
  },
  {
   "cell_type": "code",
   "execution_count": 19,
   "id": "6470f611",
   "metadata": {
    "execution": {
     "iopub.execute_input": "2025-05-03T15:02:12.844404Z",
     "iopub.status.busy": "2025-05-03T15:02:12.844178Z",
     "iopub.status.idle": "2025-05-03T15:02:14.237638Z",
     "shell.execute_reply": "2025-05-03T15:02:14.237197Z",
     "shell.execute_reply.started": "2025-05-03T15:02:12.844390Z"
    },
    "language": "python"
   },
   "outputs": [
    {
     "name": "stdout",
     "output_type": "stream",
     "text": [
      "Evaluating on 19772 test samples\n",
      "\u001b[1m618/618\u001b[0m \u001b[32m━━━━━━━━━━━━━━━━━━━━\u001b[0m\u001b[37m\u001b[0m \u001b[1m1s\u001b[0m 2ms/step\n",
      "\n",
      "Test Set Evaluation:\n",
      "Accuracy: 0.6469\n",
      "Precision: 0.1282\n",
      "Recall: 0.2987\n",
      "F1 Score: 0.1794\n",
      "Confusion Matrix:\n",
      "[[12028  5190]\n",
      " [ 1791   763]]\n"
     ]
    },
    {
     "data": {
      "image/png": "[encoded data removed]",
      "text/plain": [
       "<Figure size 1000x800 with 1 Axes>"
      ]
     },
     "metadata": {},
     "output_type": "display_data"
    },
    {
     "data": {
      "image/png": "[encoded data removed]",
      "text/plain": [
       "<Figure size 1000x800 with 1 Axes>"
      ]
     },
     "metadata": {},
     "output_type": "display_data"
    }
   ],
   "source": [
    "# Evaluate on test set\n",
    "def evaluate_test_set(model, test_audio, test_visual, test_labels):\n",
    "    # Make sure we're evaluating on the same number of samples as the labels\n",
    "    num_test_samples = min(len(test_audio), len(test_visual), len(test_labels))\n",
    "    print(f\"Evaluating on {num_test_samples} test samples\")\n",
    "    \n",
    "    # Get predictions\n",
    "    test_pred_probs = model.predict([test_audio[:num_test_samples], test_visual[:num_test_samples]])\n",
    "    test_preds = (test_pred_probs > 0.5).astype(int).flatten()\n",
    "    \n",
    "    # Make sure we're using the matching subset of labels\n",
    "    test_labels_subset = test_labels[:num_test_samples]\n",
    "    \n",
    "    # Calculate metrics\n",
    "    accuracy = accuracy_score(test_labels_subset, test_preds)\n",
    "    precision = precision_score(test_labels_subset, test_preds)\n",
    "    recall = recall_score(test_labels_subset, test_preds)\n",
    "    f1 = f1_score(test_labels_subset, test_preds)\n",
    "    cm = confusion_matrix(test_labels_subset, test_preds)\n",
    "    \n",
    "    # Print results\n",
    "    print(\"\\nTest Set Evaluation:\")\n",
    "    print(f\"Accuracy: {accuracy:.4f}\")\n",
    "    print(f\"Precision: {precision:.4f}\")\n",
    "    print(f\"Recall: {recall:.4f}\")\n",
    "    print(f\"F1 Score: {f1:.4f}\")\n",
    "    print(\"Confusion Matrix:\")\n",
    "    print(cm)\n",
    "    \n",
    "    # Calculate and plot ROC curve\n",
    "    fpr, tpr, _ = roc_curve(test_labels_subset, test_pred_probs)\n",
    "    roc_auc = auc(fpr, tpr)\n",
    "    \n",
    "    plt.figure(figsize=(10, 8))\n",
    "    plt.plot(fpr, tpr, label=f'AUC = {roc_auc:.4f}')\n",
    "    plt.plot([0, 1], [0, 1], 'k--')\n",
    "    plt.xlabel('False Positive Rate')\n",
    "    plt.ylabel('True Positive Rate')\n",
    "    plt.title('ROC Curve')\n",
    "    plt.legend()\n",
    "    plt.savefig(f\"{RESULTS_PATH}/roc_curve.png\")\n",
    "    plt.show()\n",
    "    \n",
    "    # Calculate and plot precision-recall curve\n",
    "    precision_curve, recall_curve, _ = precision_recall_curve(test_labels_subset, test_pred_probs)\n",
    "    average_precision = average_precision_score(test_labels_subset, test_pred_probs)\n",
    "    \n",
    "    plt.figure(figsize=(10, 8))\n",
    "    plt.plot(recall_curve, precision_curve, label=f'AP = {average_precision:.4f}')\n",
    "    plt.xlabel('Recall')\n",
    "    plt.ylabel('Precision')\n",
    "    plt.title('Precision-Recall Curve')\n",
    "    plt.legend()\n",
    "    plt.savefig(f\"{RESULTS_PATH}/pr_curve.png\")\n",
    "    plt.show()\n",
    "    \n",
    "    # Return metrics for further analysis\n",
    "    metrics = {\n",
    "        'accuracy': accuracy,\n",
    "        'precision': precision,\n",
    "        'recall': recall,\n",
    "        'f1': f1,\n",
    "        'auc': roc_auc,\n",
    "        'confusion_matrix': cm,\n",
    "        'predictions': test_preds,\n",
    "        'probabilities': test_pred_probs\n",
    "    }\n",
    "    \n",
    "    return metrics\n",
    "\n",
    "# Evaluate on test set\n",
    "test_metrics = evaluate_test_set(model, test_audio, test_visual, test_labels)"
   ]
  },
  {
   "cell_type": "markdown",
   "id": "090bb1d6",
   "metadata": {
    "language": "markdown"
   },
   "source": [
    "## Experiment with Additional Features (Optional)\n",
    "\n",
    "If needed, we can modify the model to incorporate additional features from deeper models like ResNet or VGG.\n"
   ]
  },
  {
   "cell_type": "code",
   "execution_count": null,
   "id": "80b77d42",
   "metadata": {
    "language": "python"
   },
   "outputs": [],
   "source": [
    "# Function to create an enhanced model with additional features\n",
    "def create_enhanced_model(audio_shape, visual_shape, deep_visual_shape=None, lstm_units=128, dropout_rate=0.3):\n",
    "    \"\"\"Create an enhanced model that can use additional deep features\"\"\"\n",
    "    # Input layers\n",
    "    audio_input = Input(shape=audio_shape[1:], name='audio_input')\n",
    "    visual_input = Input(shape=visual_shape[1:], name='visual_input')\n",
    "    \n",
    "    # Add deep visual input if provided\n",
    "    inputs = [audio_input, visual_input]\n",
    "    if deep_visual_shape is not None:\n",
    "        deep_visual_input = Input(shape=deep_visual_shape[1:], name='deep_visual_input')\n",
    "        inputs.append(deep_visual_input)\n",
    "    \n",
    "    # Branch 1: Audio processing\n",
    "    audio_lstm1 = LSTM(lstm_units, return_sequences=True, name='audio_lstm1')(audio_input)\n",
    "    audio_bn = BatchNormalization()(audio_lstm1)\n",
    "    audio_dropout = Dropout(dropout_rate)(audio_bn)\n",
    "    \n",
    "    # Branch 2: Visual processing\n",
    "    visual_lstm1 = LSTM(lstm_units, return_sequences=True, name='visual_lstm1')(visual_input)\n",
    "    visual_bn = BatchNormalization()(visual_lstm1)\n",
    "    visual_dropout = Dropout(dropout_rate)(visual_bn)\n",
    "    \n",
    "    # Branch 3: Deep visual features (if provided)\n",
    "    if deep_visual_shape is not None:\n",
    "        deep_visual_lstm = LSTM(lstm_units, return_sequences=True, name='deep_visual_lstm1')(deep_visual_input)\n",
    "        deep_visual_bn = BatchNormalization()(deep_visual_lstm)\n",
    "        deep_visual_dropout = Dropout(dropout_rate)(deep_visual_bn)\n",
    "        \n",
    "        # Cross-modal attention between all branches\n",
    "        enhanced_audio, enhanced_visual = cross_modal_attention(audio_dropout, visual_dropout, 'basic_')\n",
    "        enhanced_deep, _ = cross_modal_attention(deep_visual_dropout, audio_dropout, 'deep_')\n",
    "        \n",
    "        # Second level LSTMs\n",
    "        audio_lstm2 = LSTM(lstm_units, return_sequences=False)(enhanced_audio)\n",
    "        visual_lstm2 = LSTM(lstm_units, return_sequences=False)(enhanced_visual)\n",
    "        deep_lstm2 = LSTM(lstm_units, return_sequences=False)(enhanced_deep)\n",
    "        \n",
    "        # Combine all branches\n",
    "        fusion = Concatenate()([audio_lstm2, visual_lstm2, deep_lstm2])\n",
    "    else:\n",
    "        # Standard two-branch model\n",
    "        enhanced_audio, enhanced_visual = cross_modal_attention(audio_dropout, visual_dropout)\n",
    "        \n",
    "        audio_lstm2 = LSTM(lstm_units, return_sequences=False)(enhanced_audio)\n",
    "        visual_lstm2 = LSTM(lstm_units, return_sequences=False)(enhanced_visual)\n",
    "        \n",
    "        fusion = Concatenate()([audio_lstm2, visual_lstm2])\n",
    "    \n",
    "    # Final layers\n",
    "    fusion_dropout = Dropout(dropout_rate)(fusion)\n",
    "    dense = Dense(64, activation='relu')(fusion_dropout)\n",
    "    output = Dense(1, activation='sigmoid')(dense)\n",
    "    \n",
    "    # Create model\n",
    "    model = Model(inputs=inputs, outputs=output)\n",
    "    \n",
    "    return model\n",
    "\n",
    "# For future experiments with additional features, uncomment these lines:\n",
    "'''\n",
    "# Example of creating an enhanced model with ResNet features\n",
    "if 'train' in resnet_features and 'dev' in resnet_features and 'test' in resnet_features:\n",
    "    enhanced_model = create_enhanced_model(\n",
    "        train_audio.shape, \n",
    "        train_visual.shape,\n",
    "        resnet_features['train'].shape\n",
    "    )\n",
    "    enhanced_model.summary()\n",
    "'''"
   ]
  },
  {
   "cell_type": "code",
   "execution_count": null,
   "id": "1010a0a5",
   "metadata": {
    "language": "python"
   },
   "outputs": [],
   "source": [
    "# Save the trained model\n",
    "model.save(f\"{MODEL_PATH}/final_model.h5\")\n",
    "print(f\"Model saved to {MODEL_PATH}/final_model.h5\")\n",
    "\n",
    "# Save test metrics\n",
    "with open(f\"{RESULTS_PATH}/test_metrics.pkl\", 'wb') as f:\n",
    "    pickle.dump(test_metrics, f)\n",
    "\n",
    "# Save training history\n",
    "with open(f\"{RESULTS_PATH}/training_history.pkl\", 'wb') as f:\n",
    "    pickle.dump(history.history, f)\n",
    "\n",
    "print(\"Results saved successfully!\")"
   ]
  },
  {
   "cell_type": "markdown",
   "id": "abb80d91",
   "metadata": {},
   "source": [
    "## Conclusions and Next Steps\n",
    "\n",
    "This notebook has implemented a two-branch LSTM model with cross-modal attention for PTSD prediction from multimodal data. The key components include:\n",
    "\n",
    "1. **Multimodal Data Integration**: Combining audio (egemaps) and visual (openface) features\n",
    "2. **Cross-Modal Attention**: Enabling each modality to focus on relevant parts of the other\n",
    "3. **Class Weighting**: Addressing the class imbalance issue\n",
    "4. **Comprehensive Evaluation**: Using metrics suited for imbalanced classification problems\n",
    "\n",
    "### Addressing Feature Concern\n",
    "\n",
    "While we've primarily used egemaps and openface features as they were consistently available across all participants, the architecture can be extended to incorporate additional features like ResNet, VGG, and DenseNet if desired. The `create_enhanced_model` function provides a framework for this integration.\n",
    "\n",
    "### Future Improvements\n",
    "\n",
    "1. **Feature Engineering**: Create temporal dynamic features (rates of change, variability)\n",
    "2. **Architecture Optimization**: Experiment with different LSTM configurations and attention mechanisms\n",
    "3. **Ensemble Methods**: Combine multiple models trained on different feature sets\n",
    "4. **Hyperparameter Tuning**: Optimize learning rate, batch size, and other hyperparameters\n"
   ]
  },
  {
   "cell_type": "code",
   "execution_count": null,
   "id": "f02cbf87",
   "metadata": {},
   "outputs": [],
   "source": [
    "def augment_sequence(sequence, noise_level=0.05):\n",
    "    \"\"\"Add random noise to time series data for augmentation\"\"\"\n",
    "    noise = noise_level * np.random.normal(0, 1, sequence.shape)\n",
    "    return sequence + noise"
   ]
  },
  {
   "cell_type": "code",
   "execution_count": null,
   "id": "b57e3079",
   "metadata": {},
   "outputs": [],
   "source": [
    "def process_with_gpu_memory_constraints(train_audio, train_visual, train_labels, dev_audio, dev_visual, dev_labels, batch_size=32):\n",
    "    \"\"\"\n",
    "    Process data in smaller batches to avoid GPU memory issues and apply data augmentation\n",
    "    to address class imbalance\n",
    "    \"\"\"\n",
    "    print(\"Processing data with GPU memory constraints and data augmentation...\")\n",
    "    \n",
    "    # 1. Use CPU for initial tensor conversions\n",
    "    with tf.device('/CPU:0'):\n",
    "        # Make sure labels match the size of features\n",
    "        num_train_samples = min(len(train_audio), len(train_visual))\n",
    "        train_labels_subset = train_labels[:num_train_samples]\n",
    "        \n",
    "        num_dev_samples = min(len(dev_audio), len(dev_visual))\n",
    "        dev_labels_subset = dev_labels[:num_dev_samples]\n",
    "        \n",
    "        # Apply data augmentation for minority class (PTSD positive)\n",
    "        print(\"Applying data augmentation to balance classes...\")\n",
    "        augmented_audio = []\n",
    "        augmented_visual = []\n",
    "        augmented_labels = []\n",
    "        \n",
    "        # Count positive samples\n",
    "        positive_count = np.sum(train_labels_subset == 1)\n",
    "        negative_count = np.sum(train_labels_subset == 0)\n",
    "        augmentation_factor = min(3, int(negative_count / positive_count) - 1)\n",
    "        print(f\"Class distribution before augmentation: {positive_count} positive, {negative_count} negative\")\n",
    "        print(f\"Augmentation factor: {augmentation_factor}x\")\n",
    "        \n",
    "        for i in range(num_train_samples):\n",
    "            if train_labels_subset[i] == 1:  # PTSD positive class\n",
    "                # Add multiple augmented samples for each positive sample\n",
    "                for _ in range(augmentation_factor):\n",
    "                    augmented_audio.append(augment_sequence(train_audio[i]))\n",
    "                    augmented_visual.append(augment_sequence(train_visual[i]))\n",
    "                    augmented_labels.append(1)\n",
    "        \n",
    "        # Append augmented samples to original data\n",
    "        train_audio_combined = np.vstack([train_audio[:num_train_samples], np.array(augmented_audio)])\n",
    "        train_visual_combined = np.vstack([train_visual[:num_train_samples], np.array(augmented_visual)])\n",
    "        train_labels_combined = np.append(train_labels_subset, augmented_labels)\n",
    "        \n",
    "        print(f\"Added {len(augmented_labels)} augmented positive samples\")\n",
    "        print(f\"Class distribution after augmentation: {np.sum(train_labels_combined == 1)}/{len(train_labels_combined)} positive samples\")\n",
    "        \n",
    "        # Create sample weights for class imbalance\n",
    "        classes = np.unique(train_labels_combined)\n",
    "        class_weights = class_weight.compute_class_weight(\n",
    "            class_weight='balanced',\n",
    "            classes=classes,\n",
    "            y=train_labels_combined\n",
    "        )\n",
    "        class_weight_dict = {i: w for i, w in enumerate(class_weights)}\n",
    "        \n",
    "        # Create dataset objects to handle memory efficiently\n",
    "        train_dataset = tf.data.Dataset.from_tensor_slices(\n",
    "            ((train_audio_combined, train_visual_combined), train_labels_combined)\n",
    "        ).shuffle(buffer_size=10000).batch(batch_size)\n",
    "        \n",
    "        val_dataset = tf.data.Dataset.from_tensor_slices(\n",
    "            ((dev_audio[:num_dev_samples], dev_visual[:num_dev_samples]), dev_labels_subset)\n",
    "        ).batch(batch_size)\n",
    "    \n",
    "    # 2. Return the TensorFlow datasets and related info\n",
    "    return {\n",
    "        'train_dataset': train_dataset,\n",
    "        'val_dataset': val_dataset,\n",
    "        'class_weight_dict': class_weight_dict,\n",
    "        'train_samples': len(train_labels_combined),\n",
    "        'val_samples': num_dev_samples,\n",
    "        'batch_size': batch_size\n",
    "    }"
   ]
  },
  {
   "cell_type": "code",
   "execution_count": null,
   "id": "ba49bc10",
   "metadata": {},
   "outputs": [],
   "source": [
    "def focal_loss(gamma=2.0, alpha=0.25):\n",
    "    \"\"\"\n",
    "    Focal Loss function for binary classification with imbalanced data\n",
    "    \n",
    "    Arguments:\n",
    "        gamma: focusing parameter that controls how much to focus on hard examples\n",
    "        alpha: weighting factor for the positive class\n",
    "    \n",
    "    Returns:\n",
    "        Focal loss function\n",
    "    \"\"\"\n",
    "    def focal_loss_fn(y_true, y_pred):\n",
    "        import tensorflow.keras.backend as K\n",
    "        \n",
    "        # Clip predictions to prevent numerical instability\n",
    "        y_pred = K.clip(y_pred, K.epsilon(), 1 - K.epsilon())\n",
    "        \n",
    "        # Calculate focal loss\n",
    "        pt_1 = tf.where(tf.equal(y_true, 1), y_pred, tf.ones_like(y_pred))\n",
    "        pt_0 = tf.where(tf.equal(y_true, 0), y_pred, tf.zeros_like(y_pred))\n",
    "        \n",
    "        # Apply focal term\n",
    "        return -K.mean(alpha * K.pow(1. - pt_1, gamma) * K.log(pt_1 + K.epsilon())) - \\\n",
    "               K.mean((1 - alpha) * K.pow(pt_0, gamma) * K.log(1. - pt_0 + K.epsilon()))\n",
    "    \n",
    "    return focal_loss_fn"
   ]
  },
  {
   "cell_type": "code",
   "execution_count": null,
   "id": "07e9d791",
   "metadata": {},
   "outputs": [],
   "source": [
    "# Feature Engineering Functions\n",
    "def extract_statistical_features(sequences):\n",
    "    \"\"\"Extract statistical features from sequences\n",
    "    \n",
    "    For each sequence (participant), we calculate statistical measures across the time \n",
    "    dimension to create a fixed-length feature vector regardless of sequence length.\n",
    "    These features capture the distribution characteristics of each signal.\n",
    "    \"\"\"\n",
    "    # Get dimensions\n",
    "    n_samples, seq_len, n_features = sequences.shape\n",
    "    \n",
    "    # Initialize array to hold features\n",
    "    # We'll extract 6 statistics for each feature dimension\n",
    "    stat_features = np.zeros((n_samples, n_features * 6))\n",
    "    \n",
    "    print(f\"Extracting statistical features from {n_samples} sequences with {n_features} features...\")\n",
    "    \n",
    "    for i in range(n_samples):\n",
    "        for j in range(n_features):\n",
    "            # Extract feature sequence\n",
    "            feat_seq = sequences[i, :, j]\n",
    "            \n",
    "            # Calculate core statistics\n",
    "            mean_val = np.mean(feat_seq)\n",
    "            std_val = np.std(feat_seq)\n",
    "            min_val = np.min(feat_seq)\n",
    "            max_val = np.max(feat_seq)\n",
    "            range_val = max_val - min_val\n",
    "            # Use quantiles for robustness to outliers\n",
    "            q75_q25_val = np.percentile(feat_seq, 75) - np.percentile(feat_seq, 25)\n",
    "            \n",
    "            # Store in the feature array\n",
    "            idx = j * 6\n",
    "            stat_features[i, idx:idx+6] = [mean_val, std_val, min_val, max_val, range_val, q75_q25_val]\n",
    "        \n",
    "        # Show progress\n",
    "        if i % 1000 == 0 and i > 0:\n",
    "            print(f\"Processed {i}/{n_samples} sequences\")\n",
    "    \n",
    "    # Create feature names for interpretability\n",
    "    feature_names = []\n",
    "    for j in range(n_features):\n",
    "        for stat in ['mean', 'std', 'min', 'max', 'range', 'iqr']:\n",
    "            feature_names.append(f\"feat{j+1}_{stat}\")\n",
    "    \n",
    "    return stat_features, feature_names\n",
    "\n",
    "def extract_temporal_features(sequences):\n",
    "    \"\"\"Extract temporal dynamics features that may indicate PTSD\n",
    "    \n",
    "    These features capture how signals change over time, variance in responses,\n",
    "    and other temporal patterns that might be relevant to PTSD detection.\n",
    "    \"\"\"\n",
    "    # Get dimensions\n",
    "    n_samples, seq_len, n_features = sequences.shape\n",
    "    \n",
    "    # We'll extract 5 temporal features per input feature\n",
    "    temp_features = np.zeros((n_samples, n_features * 5))\n",
    "    \n",
    "    print(f\"Extracting temporal features from {n_samples} sequences...\")\n",
    "    \n",
    "    for i in range(n_samples):\n",
    "        for j in range(n_features):\n",
    "            # Extract feature sequence\n",
    "            feat_seq = sequences[i, :, j]\n",
    "            \n",
    "            # Calculate temporal features\n",
    "            \n",
    "            # 1. Rate of change (first derivative statistics)\n",
    "            diffs = np.diff(feat_seq)\n",
    "            mean_change = np.mean(np.abs(diffs))\n",
    "            max_change = np.max(np.abs(diffs))\n",
    "            \n",
    "            # 2. Trend features\n",
    "            # Simple linear regression slope\n",
    "            x = np.arange(seq_len)\n",
    "            slope, _, _, _, _ = np.polyfit(x, feat_seq, 1, full=True)\n",
    "            slope = slope[0] if isinstance(slope, np.ndarray) else slope\n",
    "            \n",
    "            # 3. Variability features\n",
    "            # Coefficient of variation (adjusts for magnitude)\n",
    "            cv = np.std(feat_seq) / (np.mean(np.abs(feat_seq)) + 1e-10)\n",
    "            \n",
    "            # 4. Number of peaks/fluctuations (simplified)\n",
    "            peaks = np.sum(np.logical_and(diffs[:-1] > 0, diffs[1:] < 0))\n",
    "            \n",
    "            # Store features\n",
    "            idx = j * 5\n",
    "            temp_features[i, idx:idx+5] = [mean_change, max_change, slope, cv, peaks]\n",
    "        \n",
    "        # Show progress\n",
    "        if i % 1000 == 0 and i > 0:\n",
    "            print(f\"Processed {i}/{n_samples} sequences\")\n",
    "    \n",
    "    # Create feature names for interpretability\n",
    "    feature_names = []\n",
    "    for j in range(n_features):\n",
    "        for stat in ['mean_change', 'max_change', 'trend_slope', 'coef_var', 'peaks']:\n",
    "            feature_names.append(f\"feat{j+1}_{stat}\")\n",
    "    \n",
    "    return temp_features, feature_names\n",
    "\n",
    "def combine_engineered_features(audio_sequences, visual_sequences):\n",
    "    \"\"\"Combine statistical and temporal features from both modalities\"\"\"\n",
    "    # Extract features from each modality\n",
    "    audio_stat_features, audio_stat_names = extract_statistical_features(audio_sequences)\n",
    "    audio_temp_features, audio_temp_names = extract_temporal_features(audio_sequences)\n",
    "    \n",
    "    visual_stat_features, visual_stat_names = extract_statistical_features(visual_sequences)\n",
    "    visual_temp_features, visual_temp_names = extract_temporal_features(visual_sequences)\n",
    "    \n",
    "    # Combine all features\n",
    "    all_features = np.hstack([\n",
    "        audio_stat_features, audio_temp_features,\n",
    "        visual_stat_features, visual_temp_features\n",
    "    ])\n",
    "    \n",
    "    # Create prefixed feature names\n",
    "    audio_stat_names = [f\"audio_{name}\" for name in audio_stat_names]\n",
    "    audio_temp_names = [f\"audio_{name}\" for name in audio_temp_names]\n",
    "    visual_stat_names = [f\"visual_{name}\" for name in visual_stat_names]\n",
    "    visual_temp_names = [f\"visual_{name}\" for name in visual_temp_names]\n",
    "    \n",
    "    all_feature_names = audio_stat_names + audio_temp_names + visual_stat_names + visual_temp_names\n",
    "    \n",
    "    print(f\"Combined feature shape: {all_features.shape}\")\n",
    "    print(f\"Total features: {len(all_feature_names)}\")\n",
    "    \n",
    "    return all_features, all_feature_names"
   ]
  }
 ],
 "metadata": {
  "kernelspec": {
   "display_name": "Python 3 (ipykernel)",
   "language": "python",
   "name": "python3"
  },
  "language_info": {
   "codemirror_mode": {
    "name": "ipython",
    "version": 3
   },
   "file_extension": ".py",
   "mimetype": "text/x-python",
   "name": "python",
   "nbconvert_exporter": "python",
   "pygments_lexer": "ipython3",
   "version": "3.10.12"
  }
 },
 "nbformat": 4,
 "nbformat_minor": 5
}
